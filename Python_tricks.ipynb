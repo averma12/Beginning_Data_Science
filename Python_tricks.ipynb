{
  "nbformat": 4,
  "nbformat_minor": 0,
  "metadata": {
    "colab": {
      "name": "Python_tricks.ipynb",
      "version": "0.3.2",
      "provenance": [],
      "include_colab_link": true
    },
    "kernelspec": {
      "name": "python3",
      "display_name": "Python 3"
    }
  },
  "cells": [
    {
      "cell_type": "markdown",
      "metadata": {
        "id": "view-in-github",
        "colab_type": "text"
      },
      "source": [
        "<a href=\"https://colab.research.google.com/github/averma12/Beginning_Data_Science/blob/master/Python_tricks.ipynb\" target=\"_parent\"><img src=\"https://colab.research.google.com/assets/colab-badge.svg\" alt=\"Open In Colab\"/></a>"
      ]
    },
    {
      "metadata": {
        "id": "w8BU2O6KjHC0",
        "colab_type": "code",
        "colab": {}
      },
      "cell_type": "code",
      "source": [
        "#Example of function unpacking using * and **"
      ],
      "execution_count": 0,
      "outputs": []
    },
    {
      "metadata": {
        "id": "vlC-BXONjg2u",
        "colab_type": "code",
        "outputId": "c2a677a8-f4d1-42ce-ddda-6e3171422fcf",
        "colab": {
          "base_uri": "https://localhost:8080/",
          "height": 34
        }
      },
      "cell_type": "code",
      "source": [
        "tuple_vec = (0,1,0)\n",
        "print([*tuple_vec])"
      ],
      "execution_count": 0,
      "outputs": [
        {
          "output_type": "stream",
          "text": [
            "[0, 1, 0]\n"
          ],
          "name": "stdout"
        }
      ]
    },
    {
      "metadata": {
        "id": "FqNSkSi3j8vg",
        "colab_type": "code",
        "colab": {}
      },
      "cell_type": "code",
      "source": [
        "def print_vector(x,y,z):\n",
        "  print(f'<{x} {y} {z}>')"
      ],
      "execution_count": 0,
      "outputs": []
    },
    {
      "metadata": {
        "id": "fLgcLlCKkaw8",
        "colab_type": "code",
        "outputId": "3922247e-15e6-435d-bd00-d1643543ee8f",
        "colab": {
          "base_uri": "https://localhost:8080/",
          "height": 34
        }
      },
      "cell_type": "code",
      "source": [
        "print_vector(*tuple_vec)"
      ],
      "execution_count": 0,
      "outputs": [
        {
          "output_type": "stream",
          "text": [
            "<0 1 0>\n"
          ],
          "name": "stdout"
        }
      ]
    },
    {
      "metadata": {
        "id": "fMszQv2RlE9-",
        "colab_type": "code",
        "outputId": "5a06624b-9400-4f1f-eee6-f045b17c61a8",
        "colab": {
          "base_uri": "https://localhost:8080/",
          "height": 34
        }
      },
      "cell_type": "code",
      "source": [
        "dict_vec = {'x':1,'y':2,'z':3}\n",
        "print_vector(*dict_vec)"
      ],
      "execution_count": 0,
      "outputs": [
        {
          "output_type": "stream",
          "text": [
            "<x y z>\n"
          ],
          "name": "stdout"
        }
      ]
    },
    {
      "metadata": {
        "id": "6OmdDaTsmncP",
        "colab_type": "text"
      },
      "cell_type": "markdown",
      "source": [
        "Emulating Switch case statement in python using dictionaries. "
      ]
    },
    {
      "metadata": {
        "id": "xXIYGianmuxG",
        "colab_type": "code",
        "colab": {}
      },
      "cell_type": "code",
      "source": [
        "def dispatch_dict(operator,x,y):\n",
        "  return {\n",
        "      'add': lambda: x+y,\n",
        "      'sub':lambda: x-y,\n",
        "      'mul':lambda: x*y,\n",
        "      'div':lambda: x/y\n",
        "  }.get(operator,lambda:\"Sahi se de\")()"
      ],
      "execution_count": 0,
      "outputs": []
    },
    {
      "metadata": {
        "id": "AMlQm28Qr7PW",
        "colab_type": "code",
        "outputId": "997d08f8-baa0-4731-8441-414305aa0c3e",
        "colab": {
          "base_uri": "https://localhost:8080/",
          "height": 34
        }
      },
      "cell_type": "code",
      "source": [
        "dispatch_dict('bodmas',2,3)"
      ],
      "execution_count": 0,
      "outputs": [
        {
          "output_type": "execute_result",
          "data": {
            "text/plain": [
              "'Sahi se de'"
            ]
          },
          "metadata": {
            "tags": []
          },
          "execution_count": 24
        }
      ]
    },
    {
      "metadata": {
        "id": "3PxSLdWFFWuf",
        "colab_type": "code",
        "colab": {}
      },
      "cell_type": "code",
      "source": [
        "#Yielding statements and Generators"
      ],
      "execution_count": 0,
      "outputs": []
    },
    {
      "metadata": {
        "id": "w9ONSsikFbW7",
        "colab_type": "text"
      },
      "cell_type": "markdown",
      "source": [
        "We will visit generators in this section. Generators are basically python functions that return a yield statement instead of the conventional return statement along with a return statement of None at the end to raise a StopIteration error. Generators are  a lazy implementation of the Iterator protocol and yield only the element being yielded. This allows generators to build an iterable data structure of potentially holding infinite values. Let's look at both iterators and generators in the following exampe\n"
      ]
    },
    {
      "metadata": {
        "id": "C2auY5JuGF6B",
        "colab_type": "code",
        "colab": {}
      },
      "cell_type": "code",
      "source": [
        "import math"
      ],
      "execution_count": 0,
      "outputs": []
    },
    {
      "metadata": {
        "id": "iVfMKje-GJD1",
        "colab_type": "code",
        "colab": {}
      },
      "cell_type": "code",
      "source": [
        "class FactIter:\n",
        "  def __init__(self,n):\n",
        "    self.n = n\n",
        "    self.i = 0\n",
        "  def __iter__(self):\n",
        "    return self\n",
        "  \n",
        "  def __next__(self):\n",
        "    if self.i >= self.n:\n",
        "      raise StopIteration\n",
        "    else:\n",
        "      result = math.factorial(self.i)\n",
        "      self.i += 1\n",
        "      return result"
      ],
      "execution_count": 0,
      "outputs": []
    },
    {
      "metadata": {
        "id": "sTezpAv6GkFv",
        "colab_type": "code",
        "outputId": "5e94065a-2354-4697-fb85-26bfd44440a0",
        "colab": {
          "base_uri": "https://localhost:8080/",
          "height": 34
        }
      },
      "cell_type": "code",
      "source": [
        "fact_iter = FactIter(5)\n",
        "fact_iter"
      ],
      "execution_count": 0,
      "outputs": [
        {
          "output_type": "execute_result",
          "data": {
            "text/plain": [
              "<__main__.FactIter at 0x7f6b4cc27c18>"
            ]
          },
          "metadata": {
            "tags": []
          },
          "execution_count": 44
        }
      ]
    },
    {
      "metadata": {
        "id": "9wd7VSxnGs3I",
        "colab_type": "code",
        "outputId": "b99fe522-93ea-497c-bc50-3c0b41640418",
        "colab": {
          "base_uri": "https://localhost:8080/",
          "height": 34
        }
      },
      "cell_type": "code",
      "source": [
        "#You can unpack an iterable into a list\n",
        "list(fact_iter)"
      ],
      "execution_count": 0,
      "outputs": [
        {
          "output_type": "execute_result",
          "data": {
            "text/plain": [
              "[1, 1, 2, 6, 24]"
            ]
          },
          "metadata": {
            "tags": []
          },
          "execution_count": 42
        }
      ]
    },
    {
      "metadata": {
        "id": "2Ty_tltFK2Xm",
        "colab_type": "text"
      },
      "cell_type": "markdown",
      "source": [
        "Replicating iterator behaviour via a function"
      ]
    },
    {
      "metadata": {
        "id": "9cyzPyuKIT91",
        "colab_type": "code",
        "colab": {}
      },
      "cell_type": "code",
      "source": [
        "#nonlocal keyword used here as i+=1 creates an assignment operation. This is not allowed in Python as i is not in the scope of inner function\n",
        "#hence using nonlocal i to reference i to the nearest enclosing namespace in the python program\n",
        "def fact():\n",
        "  i = 0\n",
        "  def inner():\n",
        "    nonlocal i\n",
        "    i += 1\n",
        "    result = math.factorial(i)\n",
        "    return result\n",
        "    \n",
        "  return inner"
      ],
      "execution_count": 0,
      "outputs": []
    },
    {
      "metadata": {
        "id": "d7p9pBfGIabY",
        "colab_type": "code",
        "colab": {}
      },
      "cell_type": "code",
      "source": [
        "f = fact()"
      ],
      "execution_count": 0,
      "outputs": []
    },
    {
      "metadata": {
        "id": "njjA9foDI1OJ",
        "colab_type": "code",
        "outputId": "e1f511b4-5436-446e-933e-3e9cf4d07e53",
        "colab": {
          "base_uri": "https://localhost:8080/",
          "height": 34
        }
      },
      "cell_type": "code",
      "source": [
        "f()"
      ],
      "execution_count": 0,
      "outputs": [
        {
          "output_type": "execute_result",
          "data": {
            "text/plain": [
              "720"
            ]
          },
          "metadata": {
            "tags": []
          },
          "execution_count": 84
        }
      ]
    },
    {
      "metadata": {
        "id": "sIR-ne2t51t-",
        "colab_type": "text"
      },
      "cell_type": "markdown",
      "source": [
        "Generators. Generators are iterators that yield a value instead of return. Yielding is the equivalent of emitting,pausing and resuming the execution of a function."
      ]
    },
    {
      "metadata": {
        "id": "regnPQ4P6Fwv",
        "colab_type": "code",
        "colab": {}
      },
      "cell_type": "code",
      "source": [
        "#Sample generator m\n",
        "def factorials(n):\n",
        "  for i in range(n):\n",
        "    yield math.factorial(i)\n",
        "        \n",
        "  "
      ],
      "execution_count": 0,
      "outputs": []
    },
    {
      "metadata": {
        "id": "lGe3sTUq6_ob",
        "colab_type": "code",
        "colab": {}
      },
      "cell_type": "code",
      "source": [
        "facts = factorials(5)"
      ],
      "execution_count": 0,
      "outputs": []
    },
    {
      "metadata": {
        "id": "8PYVZrfS7G5u",
        "colab_type": "code",
        "outputId": "781e37ab-c130-416b-bb2f-cc7843a5e972",
        "colab": {
          "base_uri": "https://localhost:8080/",
          "height": 164
        }
      },
      "cell_type": "code",
      "source": [
        "next(facts)"
      ],
      "execution_count": 0,
      "outputs": [
        {
          "output_type": "error",
          "ename": "StopIteration",
          "evalue": "ignored",
          "traceback": [
            "\u001b[0;31m---------------------------------------------------------------------------\u001b[0m",
            "\u001b[0;31mStopIteration\u001b[0m                             Traceback (most recent call last)",
            "\u001b[0;32m<ipython-input-94-442cdd889dd8>\u001b[0m in \u001b[0;36m<module>\u001b[0;34m()\u001b[0m\n\u001b[0;32m----> 1\u001b[0;31m \u001b[0mnext\u001b[0m\u001b[0;34m(\u001b[0m\u001b[0mfacts\u001b[0m\u001b[0;34m)\u001b[0m\u001b[0;34m\u001b[0m\u001b[0;34m\u001b[0m\u001b[0m\n\u001b[0m",
            "\u001b[0;31mStopIteration\u001b[0m: "
          ]
        }
      ]
    },
    {
      "metadata": {
        "id": "QeL8x8Ss7P4d",
        "colab_type": "text"
      },
      "cell_type": "markdown",
      "source": [
        "As you can see, generators are similar to iterators in that they can also be exhausted once unpacked. Next we will see how to create iterables from generators so that they don't need to be newly instantiated all the time"
      ]
    }
  ]
}