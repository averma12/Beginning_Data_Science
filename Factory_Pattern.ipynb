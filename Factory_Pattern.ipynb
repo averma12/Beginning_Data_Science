{
  "nbformat": 4,
  "nbformat_minor": 0,
  "metadata": {
    "colab": {
      "name": "Factory_Pattern.ipynb",
      "version": "0.3.2",
      "provenance": [],
      "include_colab_link": true
    },
    "kernelspec": {
      "name": "python3",
      "display_name": "Python 3"
    }
  },
  "cells": [
    {
      "cell_type": "markdown",
      "metadata": {
        "id": "view-in-github",
        "colab_type": "text"
      },
      "source": [
        "<a href=\"https://colab.research.google.com/github/averma12/Beginning_Data_Science/blob/master/Factory_Pattern.ipynb\" target=\"_parent\"><img src=\"https://colab.research.google.com/assets/colab-badge.svg\" alt=\"Open In Colab\"/></a>"
      ]
    },
    {
      "metadata": {
        "id": "UsQHj5X4Fx81",
        "colab_type": "code",
        "colab": {}
      },
      "cell_type": "code",
      "source": [
        "import json\n",
        "import xml.etree.ElementTree as et\n",
        "\n"
      ],
      "execution_count": 0,
      "outputs": []
    },
    {
      "metadata": {
        "id": "oLDOjpsXGRd-",
        "colab_type": "code",
        "colab": {}
      },
      "cell_type": "code",
      "source": [
        "class Song:\n",
        "    def __init__(self, song_id, title, artist):\n",
        "        self.song_id = song_id\n",
        "        self.title = title\n",
        "        self.artist = artist"
      ],
      "execution_count": 0,
      "outputs": []
    },
    {
      "metadata": {
        "id": "IvGVQZAIGXJB",
        "colab_type": "code",
        "colab": {}
      },
      "cell_type": "code",
      "source": [
        "class SongSerializer:\n",
        "    def serialize(self, song, format):\n",
        "        if format == 'JSON':\n",
        "            song_info = {\n",
        "                'id': song.song_id,\n",
        "                'title': song.title,\n",
        "                'artist': song.artist\n",
        "            }\n",
        "            return json.dumps(song_info)\n",
        "        elif format == 'XML':\n",
        "            song_info = et.Element('song', attrib={'id': song.song_id})\n",
        "            title = et.SubElement(song_info, 'title')\n",
        "            title.text = song.title\n",
        "            artist = et.SubElement(song_info, 'artist')\n",
        "            artist.text = song.artist\n",
        "            return et.tostring(song_info, encoding='unicode')\n",
        "        else:\n",
        "            raise ValueError(format)"
      ],
      "execution_count": 0,
      "outputs": []
    },
    {
      "metadata": {
        "id": "2DpystGTGaBc",
        "colab_type": "text"
      },
      "cell_type": "markdown",
      "source": [
        "In the example above, you have a basic Song class to represent a song and a SongSerializer class that can convert a song object into its string representation according to the value of the format parameter.\n",
        "\n",
        "The .serialize() method supports two different formats: JSON and XML. Any other format specified is not supported, so a ValueError exception is raised."
      ]
    },
    {
      "metadata": {
        "id": "1gZUZca8Geii",
        "colab_type": "code",
        "colab": {}
      },
      "cell_type": "code",
      "source": [
        "song = Song('1', 'Water of Love', 'Dire Straits')"
      ],
      "execution_count": 0,
      "outputs": []
    },
    {
      "metadata": {
        "id": "Aj7bQPoCG3Tl",
        "colab_type": "code",
        "colab": {}
      },
      "cell_type": "code",
      "source": [
        "serializer = SongSerializer()"
      ],
      "execution_count": 0,
      "outputs": []
    },
    {
      "metadata": {
        "id": "LKK8Dx4cHBRX",
        "colab_type": "code",
        "colab": {
          "base_uri": "https://localhost:8080/",
          "height": 34
        },
        "outputId": "e6290cab-2283-4f37-dd90-7772dc7f0fbc"
      },
      "cell_type": "code",
      "source": [
        "serializer.serialize(song, 'JSON')"
      ],
      "execution_count": 7,
      "outputs": [
        {
          "output_type": "execute_result",
          "data": {
            "text/plain": [
              "'{\"id\": \"1\", \"title\": \"Water of Love\", \"artist\": \"Dire Straits\"}'"
            ]
          },
          "metadata": {
            "tags": []
          },
          "execution_count": 7
        }
      ]
    },
    {
      "metadata": {
        "id": "u0aOafMAHGHy",
        "colab_type": "code",
        "colab": {
          "base_uri": "https://localhost:8080/",
          "height": 34
        },
        "outputId": "cde81bb7-1b9f-4b72-fee0-d4620388f1a3"
      },
      "cell_type": "code",
      "source": [
        "serializer.serialize(song, 'XML')"
      ],
      "execution_count": 8,
      "outputs": [
        {
          "output_type": "execute_result",
          "data": {
            "text/plain": [
              "'<song id=\"1\"><title>Water of Love</title><artist>Dire Straits</artist></song>'"
            ]
          },
          "metadata": {
            "tags": []
          },
          "execution_count": 8
        }
      ]
    },
    {
      "metadata": {
        "id": "9Ofss-D8HRjS",
        "colab_type": "text"
      },
      "cell_type": "markdown",
      "source": [
        "**The Problems With Complex Conditional Code**\n",
        "\n",
        "- Complex if/else statements make the code harder to read,understand and maintain.\n",
        "- Any time a new format is introduced the whole function needs to be modified which can make the code hard to read and understand\n",
        "- The single responsibility principle states that a module, a class, or even a method should have a single, well-defined responsibility. It should do just one thing and have only one reason to change\n",
        "\n",
        "**Looking for a Common Interface**\n",
        "\n",
        "- identify the common goal of each of the execution paths (or logical paths).\n",
        "- The code above converts a song object to its string representation using a different format in each logical path. All have the same end goal.\n",
        "- Refactor the code accordingly\n",
        "\n",
        "\n"
      ]
    },
    {
      "metadata": {
        "id": "6Gavzpm5IQfm",
        "colab_type": "text"
      },
      "cell_type": "markdown",
      "source": [
        "**Refactor 1**\n",
        "Refactor each of the if else statements into its own function according to the single responsibility principle"
      ]
    },
    {
      "metadata": {
        "id": "wybVq_QCIZ7J",
        "colab_type": "code",
        "colab": {}
      },
      "cell_type": "code",
      "source": [
        "class SongSerializer:\n",
        "    def serialize(self, song, format):\n",
        "        if format == 'JSON':\n",
        "            return self._serialize_to_json(song)\n",
        "        # The rest of the code remains the same\n",
        "\n",
        "    def _serialize_to_json(self, song):\n",
        "        payload = {\n",
        "            'id': song.song_id,\n",
        "            'title': song.title,\n",
        "            'artist': song.artist\n",
        "        }\n",
        "        return json.dumps(payload)\n",
        "    \n",
        "    \n",
        "    def _serialize_to_xml(self, song):\n",
        "        song_element = et.Element('song', attrib={'id': song.song_id})\n",
        "        title = et.SubElement(song_element, 'title')\n",
        "        title.text = song.title\n",
        "        artist = et.SubElement(song_element, 'artist')\n",
        "        artist.text = song.artist\n",
        "        return et.tostring(song_element, encoding='unicode')"
      ],
      "execution_count": 0,
      "outputs": []
    },
    {
      "metadata": {
        "id": "fm2sggD0OeeY",
        "colab_type": "text"
      },
      "cell_type": "markdown",
      "source": [
        "**Basic Implementation of the Factory method**\n",
        "\n",
        "The central idea in Factory Method is to provide a separate component with the responsibility to decide which concrete implementation should be used based on some specified parameter. That parameter in our example is the format.\n",
        "\n"
      ]
    },
    {
      "metadata": {
        "id": "Uyv0FcRaOlQ4",
        "colab_type": "code",
        "colab": {}
      },
      "cell_type": "code",
      "source": [
        "class SongSerializer:\n",
        "    def serialize(self, song, format):\n",
        "        serializer = self._get_serializer(format)\n",
        "        return serializer(song)\n",
        "\n",
        "    def _get_serializer(self, format):\n",
        "        if format == 'JSON':\n",
        "            return self._serialize_to_json\n",
        "        elif format == 'XML':\n",
        "            return self._serialize_to_xml\n",
        "        else:\n",
        "            raise ValueError(format)\n",
        "\n",
        "    def _serialize_to_json(self, song):\n",
        "        payload = {\n",
        "            'id': song.song_id,\n",
        "            'title': song.title,\n",
        "            'artist': song.artist\n",
        "        }\n",
        "        return json.dumps(payload)\n",
        "\n",
        "    def _serialize_to_xml(self, song):\n",
        "        song_element = et.Element('song', attrib={'id': song.song_id})\n",
        "        title = et.SubElement(song_element, 'title')\n",
        "        title.text = song.title\n",
        "        artist = et.SubElement(song_element, 'artist')\n",
        "        artist.text = song.artist\n",
        "        return et.tostring(song_element, encoding='unicode')"
      ],
      "execution_count": 0,
      "outputs": []
    },
    {
      "metadata": {
        "id": "-0KwcV2weVKU",
        "colab_type": "text"
      },
      "cell_type": "markdown",
      "source": [
        "Now suppose you want to integrate this in such a way that you are able to serialize not just a song but also other items like playlist or an album or an EP."
      ]
    },
    {
      "metadata": {
        "id": "xeCPOneKPQrr",
        "colab_type": "code",
        "colab": {}
      },
      "cell_type": "code",
      "source": [
        "# this allows adding different tupes of properties to the serializer object\n",
        "class JsonSerializer:\n",
        "    def __init__(self):\n",
        "        self._current_object = None\n",
        "\n",
        "    def start_object(self, object_name, object_id):\n",
        "        self._current_object = {\n",
        "            'id': object_id\n",
        "        }\n",
        "\n",
        "    def add_property(self, name, value):\n",
        "        self._current_object[name] = value\n",
        "\n",
        "    def to_str(self):\n",
        "        return json.dumps(self._current_object)\n"
      ],
      "execution_count": 0,
      "outputs": []
    },
    {
      "metadata": {
        "id": "ri2BBFCQfLpC",
        "colab_type": "code",
        "colab": {}
      },
      "cell_type": "code",
      "source": [
        "class XmlSerializer:\n",
        "    def __init__(self):\n",
        "        self._element = None\n",
        "\n",
        "    def start_object(self, object_name, object_id):\n",
        "        self._element = et.Element(object_name, attrib={'id': object_id})\n",
        "\n",
        "    def add_property(self, name, value):\n",
        "        prop = et.SubElement(self._element, name)\n",
        "        prop.text = value\n",
        "\n",
        "    def to_str(self):\n",
        "        return et.tostring(self._element, encoding='unicode')"
      ],
      "execution_count": 0,
      "outputs": []
    },
    {
      "metadata": {
        "id": "apXqK-aCfXk3",
        "colab_type": "code",
        "colab": {}
      },
      "cell_type": "code",
      "source": [
        "\n",
        "class ObjectSerializer:\n",
        "    def serialize(self, serializable, format):\n",
        "        serializer = SerializerFactory.get_serializer(format)\n",
        "        serializable.serialize(serializer)\n",
        "        return serializer.to_str()\n",
        "    \n",
        "#Song is a serializable because it can be serialized. Since Object serializer is generic. Song should implement this. But since Python is a dynamic\n",
        "#language and there is no type checking , Song class just needs to have this method , not necessary to implement this explicitly but it helps\n"
      ],
      "execution_count": 0,
      "outputs": []
    },
    {
      "metadata": {
        "id": "958TA4fFi_Tx",
        "colab_type": "text"
      },
      "cell_type": "markdown",
      "source": [
        "The implementation of ObjectSerializer is completely generic, and it only mentions a serializable and a format as parameters.\n",
        "\n",
        "The format is used to identify the concrete implementation of the Serializer and is resolved by the factory object. The serializable parameter refers to another abstract interface that should be implemented on any object type you want to serialize."
      ]
    },
    {
      "metadata": {
        "id": "DHO_VUpojz61",
        "colab_type": "code",
        "colab": {}
      },
      "cell_type": "code",
      "source": [
        "class Song:\n",
        "    def __init__(self, song_id, title, artist):\n",
        "        self.song_id = song_id\n",
        "        self.title = title\n",
        "        self.artist = artist\n",
        "\n",
        "    def serialize(self, serializer):\n",
        "        serializer.start_object('song', self.song_id)\n",
        "        serializer.add_property('title', self.title)\n",
        "        serializer.add_property('artist', self.artist)"
      ],
      "execution_count": 0,
      "outputs": []
    },
    {
      "metadata": {
        "id": "qdAozSP7pL9X",
        "colab_type": "code",
        "colab": {}
      },
      "cell_type": "code",
      "source": [
        "class SerializerFactory:\n",
        "    \n",
        "    def __init__(self):\n",
        "        self._creators = {}\n",
        "        \n",
        "        \n",
        "    @property\n",
        "    def creators(self):\n",
        "        return self._creators\n",
        "        \n",
        "        \n",
        "    @staticmethod    \n",
        "    def register_format(self, format, creator):\n",
        "        self._creators[format] = creator\n",
        "    \n",
        "    @staticmethod\n",
        "    def get_serializer(format):\n",
        "        if format == 'JSON':\n",
        "            return JsonSerializer()\n",
        "        elif format == 'XML':\n",
        "            return XmlSerializer()\n",
        "        else:\n",
        "            raise ValueError(format)\n",
        "\n",
        "\n",
        "factory = SerializerFactory()"
      ],
      "execution_count": 0,
      "outputs": []
    },
    {
      "metadata": {
        "id": "89Sjg-d_wbtb",
        "colab_type": "code",
        "colab": {}
      },
      "cell_type": "code",
      "source": [
        "del factory"
      ],
      "execution_count": 0,
      "outputs": []
    },
    {
      "metadata": {
        "id": "liUtHUqvsvEj",
        "colab_type": "code",
        "colab": {
          "base_uri": "https://localhost:8080/",
          "height": 34
        },
        "outputId": "0755874b-7988-4eff-9e78-83b93c9178fa"
      },
      "cell_type": "code",
      "source": [
        "factory.get_serializer(\"JSON\")"
      ],
      "execution_count": 19,
      "outputs": [
        {
          "output_type": "execute_result",
          "data": {
            "text/plain": [
              "<__main__.JsonSerializer at 0x7f2983b69c18>"
            ]
          },
          "metadata": {
            "tags": []
          },
          "execution_count": 19
        }
      ]
    },
    {
      "metadata": {
        "id": "nnoIcX5Hs6J8",
        "colab_type": "code",
        "colab": {}
      },
      "cell_type": "code",
      "source": [
        "song = Song('1', 'Water of Love', 'Dire Straits')"
      ],
      "execution_count": 0,
      "outputs": []
    },
    {
      "metadata": {
        "id": "IBkQMib8tEMI",
        "colab_type": "code",
        "colab": {}
      },
      "cell_type": "code",
      "source": [
        "serializer = ObjectSerializer()"
      ],
      "execution_count": 0,
      "outputs": []
    },
    {
      "metadata": {
        "id": "ffGuL9qdtGxQ",
        "colab_type": "code",
        "colab": {
          "base_uri": "https://localhost:8080/",
          "height": 476
        },
        "outputId": "8022ff86-76b4-49b4-91a5-86fcb3ee128c"
      },
      "cell_type": "code",
      "source": [
        "dir(serializer)"
      ],
      "execution_count": 30,
      "outputs": [
        {
          "output_type": "execute_result",
          "data": {
            "text/plain": [
              "['__class__',\n",
              " '__delattr__',\n",
              " '__dict__',\n",
              " '__dir__',\n",
              " '__doc__',\n",
              " '__eq__',\n",
              " '__format__',\n",
              " '__ge__',\n",
              " '__getattribute__',\n",
              " '__gt__',\n",
              " '__hash__',\n",
              " '__init__',\n",
              " '__init_subclass__',\n",
              " '__le__',\n",
              " '__lt__',\n",
              " '__module__',\n",
              " '__ne__',\n",
              " '__new__',\n",
              " '__reduce__',\n",
              " '__reduce_ex__',\n",
              " '__repr__',\n",
              " '__setattr__',\n",
              " '__sizeof__',\n",
              " '__str__',\n",
              " '__subclasshook__',\n",
              " '__weakref__',\n",
              " 'serialize']"
            ]
          },
          "metadata": {
            "tags": []
          },
          "execution_count": 30
        }
      ]
    },
    {
      "metadata": {
        "id": "bO8l5nvrwJWF",
        "colab_type": "code",
        "colab": {
          "base_uri": "https://localhost:8080/",
          "height": 34
        },
        "outputId": "ea5f3d7f-bac3-4d9b-f252-ddbde55625c1"
      },
      "cell_type": "code",
      "source": [
        "serializer.serialize(song, 'JSON')"
      ],
      "execution_count": 37,
      "outputs": [
        {
          "output_type": "execute_result",
          "data": {
            "text/plain": [
              "'{\"id\": \"1\", \"title\": \"Water of Love\", \"artist\": \"Dire Straits\"}'"
            ]
          },
          "metadata": {
            "tags": []
          },
          "execution_count": 37
        }
      ]
    },
    {
      "metadata": {
        "id": "UZd3uRlOborG",
        "colab_type": "code",
        "colab": {}
      },
      "cell_type": "code",
      "source": [
        "class SerializerFactory:\n",
        "    \n",
        "    _creators = {}\n",
        "        \n",
        "        \n",
        "    \n",
        "        \n",
        "        \n",
        "    @classmethod    \n",
        "    def register_format(cls, format, creator):\n",
        "        _creators[format] = creator\n",
        "    \n",
        "    @staticmethod\n",
        "    def get_serializer(format):\n",
        "        if format == 'JSON':\n",
        "            return JsonSerializer()\n",
        "        elif format == 'XML':\n",
        "            return XmlSerializer()\n",
        "        else:\n",
        "            raise ValueError(format)\n",
        "\n",
        "\n",
        "factory = SerializerFactory()"
      ],
      "execution_count": 0,
      "outputs": []
    },
    {
      "metadata": {
        "id": "Mx6jJCSEb4-Y",
        "colab_type": "code",
        "colab": {
          "base_uri": "https://localhost:8080/",
          "height": 34
        },
        "outputId": "8387f808-2118-45fa-eb88-0a02be362831"
      },
      "cell_type": "code",
      "source": [
        "! pip install PyYAML"
      ],
      "execution_count": 39,
      "outputs": [
        {
          "output_type": "stream",
          "text": [
            "Requirement already satisfied: PyYAML in /usr/local/lib/python3.6/dist-packages (3.13)\n"
          ],
          "name": "stdout"
        }
      ]
    },
    {
      "metadata": {
        "id": "dFkC74o9cENt",
        "colab_type": "code",
        "colab": {}
      },
      "cell_type": "code",
      "source": [
        "import yaml"
      ],
      "execution_count": 0,
      "outputs": []
    },
    {
      "metadata": {
        "id": "-SIxmXe7cJQ_",
        "colab_type": "code",
        "colab": {}
      },
      "cell_type": "code",
      "source": [
        "class YamlSerializer(JsonSerializer):\n",
        "    def to_str(self):\n",
        "        return yaml.dump(self._current_object)\n"
      ],
      "execution_count": 0,
      "outputs": []
    },
    {
      "metadata": {
        "id": "790zYJ_XcSB0",
        "colab_type": "code",
        "colab": {
          "base_uri": "https://localhost:8080/",
          "height": 317
        },
        "outputId": "bbd64d28-1679-4c0c-ec83-d14db3b28f52"
      },
      "cell_type": "code",
      "source": [
        "SerializerFactory.register_format('JSON', JsonSerializer)\n",
        "SerializerFactory.register_format('XML', XmlSerializer)\n",
        "SerializerFactory.register_format('YAML', YamlSerializer)\n"
      ],
      "execution_count": 48,
      "outputs": [
        {
          "output_type": "error",
          "ename": "NameError",
          "evalue": "ignored",
          "traceback": [
            "\u001b[0;31m---------------------------------------------------------------------------\u001b[0m",
            "\u001b[0;31mNameError\u001b[0m                                 Traceback (most recent call last)",
            "\u001b[0;32m<ipython-input-48-3094af870e60>\u001b[0m in \u001b[0;36m<module>\u001b[0;34m()\u001b[0m\n\u001b[0;32m----> 1\u001b[0;31m \u001b[0mSerializerFactory\u001b[0m\u001b[0;34m.\u001b[0m\u001b[0mregister_format\u001b[0m\u001b[0;34m(\u001b[0m\u001b[0;34m'JSON'\u001b[0m\u001b[0;34m,\u001b[0m \u001b[0mJsonSerializer\u001b[0m\u001b[0;34m)\u001b[0m\u001b[0;34m\u001b[0m\u001b[0;34m\u001b[0m\u001b[0m\n\u001b[0m\u001b[1;32m      2\u001b[0m \u001b[0mSerializerFactory\u001b[0m\u001b[0;34m.\u001b[0m\u001b[0mregister_format\u001b[0m\u001b[0;34m(\u001b[0m\u001b[0;34m'XML'\u001b[0m\u001b[0;34m,\u001b[0m \u001b[0mXmlSerializer\u001b[0m\u001b[0;34m)\u001b[0m\u001b[0;34m\u001b[0m\u001b[0;34m\u001b[0m\u001b[0m\n\u001b[1;32m      3\u001b[0m \u001b[0mSerializerFactory\u001b[0m\u001b[0;34m.\u001b[0m\u001b[0mregister_format\u001b[0m\u001b[0;34m(\u001b[0m\u001b[0;34m'YAML'\u001b[0m\u001b[0;34m,\u001b[0m \u001b[0mYamlSerializer\u001b[0m\u001b[0;34m)\u001b[0m\u001b[0;34m\u001b[0m\u001b[0;34m\u001b[0m\u001b[0m\n",
            "\u001b[0;32m<ipython-input-47-7cc937a3e9d6>\u001b[0m in \u001b[0;36mregister_format\u001b[0;34m(cls, format, creator)\u001b[0m\n\u001b[1;32m      9\u001b[0m     \u001b[0;34m@\u001b[0m\u001b[0mclassmethod\u001b[0m\u001b[0;34m\u001b[0m\u001b[0;34m\u001b[0m\u001b[0m\n\u001b[1;32m     10\u001b[0m     \u001b[0;32mdef\u001b[0m \u001b[0mregister_format\u001b[0m\u001b[0;34m(\u001b[0m\u001b[0mcls\u001b[0m\u001b[0;34m,\u001b[0m \u001b[0mformat\u001b[0m\u001b[0;34m,\u001b[0m \u001b[0mcreator\u001b[0m\u001b[0;34m)\u001b[0m\u001b[0;34m:\u001b[0m\u001b[0;34m\u001b[0m\u001b[0;34m\u001b[0m\u001b[0m\n\u001b[0;32m---> 11\u001b[0;31m         \u001b[0m_creators\u001b[0m\u001b[0;34m[\u001b[0m\u001b[0mformat\u001b[0m\u001b[0;34m]\u001b[0m \u001b[0;34m=\u001b[0m \u001b[0mcreator\u001b[0m\u001b[0;34m\u001b[0m\u001b[0;34m\u001b[0m\u001b[0m\n\u001b[0m\u001b[1;32m     12\u001b[0m \u001b[0;34m\u001b[0m\u001b[0m\n\u001b[1;32m     13\u001b[0m     \u001b[0;34m@\u001b[0m\u001b[0mstaticmethod\u001b[0m\u001b[0;34m\u001b[0m\u001b[0;34m\u001b[0m\u001b[0m\n",
            "\u001b[0;31mNameError\u001b[0m: name '_creators' is not defined"
          ]
        }
      ]
    }
  ]
}