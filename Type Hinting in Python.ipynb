{
 "cells": [
  {
   "cell_type": "markdown",
   "metadata": {},
   "source": [
    "All programming languages include some kind of type system that formalizes which categories of objects it can work with and how those categories are treated. For instance, a type system can define a numerical type, with 42 as one example of an object of numerical type."
   ]
  },
  {
   "cell_type": "markdown",
   "metadata": {},
   "source": [
    "Python is a dynamically typed language. This means that the Python interpreter does type checking only as code runs, and that the type of a variable is allowed to change over its lifetime. The following dummy examples demonstrate that Python has dynamic typing:"
   ]
  },
  {
   "cell_type": "code",
   "execution_count": 1,
   "metadata": {
    "collapsed": false
   },
   "outputs": [],
   "source": [
    "a = True\n",
    "if not a: \n",
    "    \n",
    "    1 + \"one\" #no error is raised\n",
    "else:\n",
    "    1 + 1"
   ]
  },
  {
   "cell_type": "markdown",
   "metadata": {},
   "source": [
    "Type hinting is a way in which types can be specified for variables such as in the function below. The variable text is of type string , align is of type bool and return type is again string. Type hinting is basically used to improve readability in Python functions and classes and helps in documentation. Type checking is not enforced in Python and even if the type hints weren't followed the function would still work. As shown in the cell following the function definition"
   ]
  },
  {
   "cell_type": "code",
   "execution_count": 2,
   "metadata": {
    "collapsed": false
   },
   "outputs": [],
   "source": [
    "def headline(text: str, align: bool = True) -> str:\n",
    "    if align:\n",
    "        return f\"{text.title()}\\n{'-' * len(text)}\"\n",
    "    else:\n",
    "        return f\" {text.title()} \".center(50, \"o\")"
   ]
  },
  {
   "cell_type": "code",
   "execution_count": 3,
   "metadata": {
    "collapsed": false
   },
   "outputs": [
    {
     "name": "stdout",
     "output_type": "stream",
     "text": [
      "Python Type Checking\n",
      "--------------------\n"
     ]
    }
   ],
   "source": [
    "print(headline(\"python type checking\", align=2))"
   ]
  },
  {
   "cell_type": "markdown",
   "metadata": {},
   "source": [
    "In terms of style, PEP 8 recommends the following:\n",
    "\n",
    "Use normal rules for colons, that is, no space before and one space after a colon: text: str.\n",
    "Use spaces around the = sign when combining an argument annotation with a default value: align: bool = True.\n",
    "Use spaces around the -> arrow: def headline(...) -> str."
   ]
  },
  {
   "cell_type": "markdown",
   "metadata": {},
   "source": [
    "## Advanced Typing in Python. \n",
    "We can use modules inbuilt in Python to build a typing module using standard types, Composite types and type aliasing.\n",
    "The standard types are types like str,int,float,bool etc. Now we can look at the other modules starting with composite types."
   ]
  },
  {
   "cell_type": "markdown",
   "metadata": {},
   "source": [
    "### Composite types are used to annotate data structures like Lists and tuples etc. They can be imported using the typing module in Python."
   ]
  },
  {
   "cell_type": "code",
   "execution_count": 4,
   "metadata": {
    "collapsed": true
   },
   "outputs": [],
   "source": [
    "from typing import Dict, List, Tuple"
   ]
  },
  {
   "cell_type": "code",
   "execution_count": 5,
   "metadata": {
    "collapsed": true
   },
   "outputs": [],
   "source": [
    "names: List[str] = [\"Guido\", \"Jukka\", \"Ivan\"]"
   ]
  },
  {
   "cell_type": "code",
   "execution_count": 6,
   "metadata": {
    "collapsed": true
   },
   "outputs": [],
   "source": [
    "names1: List[int] = [\"Guido\", \"Jukka\", \"Ivan\"]"
   ]
  },
  {
   "cell_type": "code",
   "execution_count": 7,
   "metadata": {
    "collapsed": true
   },
   "outputs": [],
   "source": [
    "import random\n",
    "SUITS = \"♠ ♡ ♢ ♣\".split()\n",
    "RANKS = \"2 3 4 5 6 7 8 9 10 J Q K A\".split()"
   ]
  },
  {
   "cell_type": "code",
   "execution_count": 8,
   "metadata": {
    "collapsed": true
   },
   "outputs": [],
   "source": [
    "def create_deck_composite(shuffle:bool = False) -> List[Tuple[str,str]]:\n",
    "    \"\"\"Create a new deck of 52 cards\"\"\"\n",
    "    deck = [(s, r) for r in RANKS for s in SUITS]\n",
    "    if shuffle:\n",
    "        \n",
    "        random.shuffle(deck)\n",
    "    return deck"
   ]
  },
  {
   "cell_type": "code",
   "execution_count": 9,
   "metadata": {
    "collapsed": false
   },
   "outputs": [
    {
     "data": {
      "text/plain": [
       "[('♠', '6'),\n",
       " ('♢', '6'),\n",
       " ('♡', '4'),\n",
       " ('♣', '7'),\n",
       " ('♣', '9'),\n",
       " ('♣', 'Q'),\n",
       " ('♢', 'J'),\n",
       " ('♠', 'Q'),\n",
       " ('♢', '3'),\n",
       " ('♢', '8'),\n",
       " ('♡', '2'),\n",
       " ('♠', '3'),\n",
       " ('♡', 'J'),\n",
       " ('♢', 'Q'),\n",
       " ('♠', '2'),\n",
       " ('♡', '7'),\n",
       " ('♣', 'K'),\n",
       " ('♡', '5'),\n",
       " ('♢', '7'),\n",
       " ('♣', 'A'),\n",
       " ('♠', 'J'),\n",
       " ('♣', '3'),\n",
       " ('♣', 'J'),\n",
       " ('♡', 'K'),\n",
       " ('♢', '10'),\n",
       " ('♢', '2'),\n",
       " ('♡', '10'),\n",
       " ('♠', 'K'),\n",
       " ('♠', '9'),\n",
       " ('♢', 'K'),\n",
       " ('♣', '2'),\n",
       " ('♢', '5'),\n",
       " ('♣', '4'),\n",
       " ('♢', '4'),\n",
       " ('♢', '9'),\n",
       " ('♡', 'A'),\n",
       " ('♢', 'A'),\n",
       " ('♠', '4'),\n",
       " ('♠', '10'),\n",
       " ('♠', '5'),\n",
       " ('♡', '9'),\n",
       " ('♠', '8'),\n",
       " ('♠', 'A'),\n",
       " ('♡', '8'),\n",
       " ('♠', '7'),\n",
       " ('♣', '5'),\n",
       " ('♡', '3'),\n",
       " ('♣', '6'),\n",
       " ('♣', '10'),\n",
       " ('♣', '8'),\n",
       " ('♡', 'Q'),\n",
       " ('♡', '6')]"
      ]
     },
     "execution_count": 9,
     "metadata": {},
     "output_type": "execute_result"
    }
   ],
   "source": [
    "create_deck_composite(shuffle=True)"
   ]
  },
  {
   "cell_type": "markdown",
   "metadata": {},
   "source": [
    "In many cases your functions will expect some kind of sequence, and not really care whether it is a list or a tuple. In these cases you should use typing.Sequence when annotating the function argument:\n",
    "Using Sequence is an example of using duck typing. A Sequence is anything that supports len() and .__getitem__(), independent of its actual type."
   ]
  },
  {
   "cell_type": "code",
   "execution_count": 10,
   "metadata": {
    "collapsed": true
   },
   "outputs": [],
   "source": [
    "from typing import List, Sequence\n",
    "\n",
    "def square(elems: Sequence[float]) -> List[float]:\n",
    "    return [x**2 for x in elems]"
   ]
  },
  {
   "cell_type": "markdown",
   "metadata": {},
   "source": [
    "## Type Aliases\n",
    "Type aliasing is a feature commonly used in static programming languages like Swift. It becomes quite difficult working out the types when staring a type hint like List[Tuple[str,str]].Type aliases are a way to mitigate this. In python 3.0 annotations were introduced which were a vague concept at the time. A function with annotations would look like this"
   ]
  },
  {
   "cell_type": "markdown",
   "metadata": {},
   "source": [
    "def func(arg: arg_type, optarg: arg_type = \"default\") -> return_type:\n",
    "    pass"
   ]
  },
  {
   "cell_type": "code",
   "execution_count": 11,
   "metadata": {
    "collapsed": true
   },
   "outputs": [],
   "source": [
    "import math\n",
    "\n",
    "def circumference(radius: float) -> float:\n",
    "    return 2 * math.pi * radius"
   ]
  },
  {
   "cell_type": "markdown",
   "metadata": {},
   "source": [
    "When running the code, you can also inspect the annotations. They are stored in a special .__annotations__ attribute on the function:"
   ]
  },
  {
   "cell_type": "code",
   "execution_count": 12,
   "metadata": {
    "collapsed": false
   },
   "outputs": [
    {
     "data": {
      "text/plain": [
       "{'radius': float, 'return': float}"
      ]
     },
     "execution_count": 12,
     "metadata": {},
     "output_type": "execute_result"
    }
   ],
   "source": [
    "circumference.__annotations__"
   ]
  },
  {
   "cell_type": "markdown",
   "metadata": {},
   "source": [
    "Annotations are just Python expressions hence they can be stored in variable"
   ]
  },
  {
   "cell_type": "code",
   "execution_count": 13,
   "metadata": {
    "collapsed": false
   },
   "outputs": [],
   "source": [
    "from typing import List, Tuple\n",
    "\n",
    "Card1 = Tuple[str, str]\n",
    "Deck1 = List[Card1]"
   ]
  },
  {
   "cell_type": "code",
   "execution_count": 14,
   "metadata": {
    "collapsed": false
   },
   "outputs": [],
   "source": [
    "def deal_hands(deck: Deck1) -> Tuple[Deck1, Deck1, Deck1, Deck1]:\n",
    "    \n",
    "    \"\"\"Deal the cards in the deck into four hands\"\"\"\n",
    "    return (deck[0::4], deck[1::4], deck[2::4], deck[3::4])"
   ]
  },
  {
   "cell_type": "code",
   "execution_count": 16,
   "metadata": {
    "collapsed": false
   },
   "outputs": [
    {
     "data": {
      "text/plain": [
       "typing.List[typing.Tuple[str, str]]"
      ]
     },
     "execution_count": 16,
     "metadata": {},
     "output_type": "execute_result"
    }
   ],
   "source": [
    "Deck1"
   ]
  },
  {
   "cell_type": "markdown",
   "metadata": {},
   "source": [
    "For void functions, it can be annotated as return type of None."
   ]
  },
  {
   "cell_type": "code",
   "execution_count": 17,
   "metadata": {
    "collapsed": true
   },
   "outputs": [],
   "source": [
    "def play(player_name: str) -> None:\n",
    "    \n",
    "    print(f\"{player_name} plays\")"
   ]
  },
  {
   "cell_type": "markdown",
   "metadata": {},
   "source": [
    "### The Any Type"
   ]
  },
  {
   "cell_type": "code",
   "execution_count": 18,
   "metadata": {
    "collapsed": true
   },
   "outputs": [],
   "source": [
    "import random\n",
    "from typing import Any, Sequence\n",
    "\n",
    "def choose(items: Sequence[Any]) -> Any:\n",
    "    return random.choice(items)"
   ]
  },
  {
   "cell_type": "markdown",
   "metadata": {},
   "source": [
    "# Card game before and after annotations\n",
    "Below is an example of a card game before annotations and after type annotations to show how type hinting is applied"
   ]
  },
  {
   "cell_type": "code",
   "execution_count": 19,
   "metadata": {
    "collapsed": true
   },
   "outputs": [],
   "source": [
    "import random\n",
    "import sys"
   ]
  },
  {
   "cell_type": "code",
   "execution_count": 20,
   "metadata": {
    "collapsed": true
   },
   "outputs": [],
   "source": [
    "class Card:\n",
    "    SUITS = \"♠ ♡ ♢ ♣\".split()\n",
    "    RANKS = \"2 3 4 5 6 7 8 9 10 J Q K A\".split()\n",
    "    \n",
    "    def __init__(self,suit,rank):\n",
    "        self.suit = suit\n",
    "        self.rank = rank\n",
    "    \n",
    "    def __repr__(self):\n",
    "        return f\"{self.suit}{self.rank}\"\n",
    "        \n",
    "        "
   ]
  },
  {
   "cell_type": "code",
   "execution_count": 21,
   "metadata": {
    "collapsed": false
   },
   "outputs": [],
   "source": [
    "class Deck:\n",
    "    def __init__(self,cards):\n",
    "        self.cards = cards\n",
    "    \n",
    "    @classmethod\n",
    "    def create(cls,shuffle=False):\n",
    "        \"\"\"Creates a newdeck of 52 cards\"\"\"\n",
    "        cards = [Card(s,r) for r in Card.RANKS for s in Card.SUITS]\n",
    "        if shuffle:\n",
    "            random.shuffle(cards)\n",
    "        return cls(cards)\n",
    "    \n",
    "    def deal(self,num_hands):\n",
    "        \"\"\"Deal the cards in the deck into a number of hands\"\"\"\n",
    "        return tuple(cls(self.cards[i::num_hands]) for i in range(num_hands))"
   ]
  },
  {
   "cell_type": "code",
   "execution_count": 22,
   "metadata": {
    "collapsed": true
   },
   "outputs": [],
   "source": [
    "class Player:\n",
    "    def __init__(self,name,hand):\n",
    "        self.name = name\n",
    "        self.hand = hand\n",
    "    \n",
    "    def play_card(self):\n",
    "        \"\"\"Play a card from the player's hand\"\"\"\n",
    "        card = random.choice(self.hand)\n",
    "        self.hand.cards.remove(card)\n",
    "        print(f\"{self.name}: {card!r:<3}\",end =\"\")\n",
    "        return card"
   ]
  },
  {
   "cell_type": "code",
   "execution_count": 25,
   "metadata": {
    "collapsed": false
   },
   "outputs": [],
   "source": [
    "class Game:\n",
    "    def __init__(self, *names):\n",
    "        deck = Deck.create(shuffle=True)\n",
    "        self.names = (list(names) + \"P1 P2 P3 P4\".split())[:4]\n",
    "        self.hands = {\n",
    "             n: Player(n, h) for n, h in zip(self.names, deck.deal(4))\n",
    "        }\n",
    "    \n",
    "    def play(self):\n",
    "        \"\"\"Play a card game\"\"\"\n",
    "        start_player = random.choice(self.names)\n",
    "        turn_order = self.player_order(start=start_player)\n",
    "        # Play cards from each player's hand until empty\n",
    "        while self.hands[start_player].hand.cards:\n",
    "                for name in turn_order:\n",
    "                    \n",
    "                    self.hands[name].play_card()\n",
    "                print()\n",
    "                \n",
    "    def player_order(self, start=None):\n",
    "        \"\"\"Rotate player order so that start goes first\"\"\"\n",
    "        if start is None:\n",
    "            start = random.choice(self.names)\n",
    "            start_idx = self.names.index(start)\n",
    "            return self.names[start_idx:] + self.names[:start_idx]\n",
    "            \n",
    "            \n",
    "        \n",
    "        \n",
    "                \n",
    "        \n",
    "        \n",
    "        \n",
    "        \n",
    "    "
   ]
  },
  {
   "cell_type": "markdown",
   "metadata": {},
   "source": [
    "# Adding Type hinting"
   ]
  },
  {
   "cell_type": "code",
   "execution_count": 26,
   "metadata": {
    "collapsed": false
   },
   "outputs": [],
   "source": [
    "import random\n",
    "import sys\n",
    "\n",
    "#Card = Tuple[str, str]\n",
    "#Deck = List[Card]"
   ]
  },
  {
   "cell_type": "code",
   "execution_count": 27,
   "metadata": {
    "collapsed": true
   },
   "outputs": [],
   "source": [
    "class Card:\n",
    "    SUITS = \"♠ ♡ ♢ ♣\".split()\n",
    "    RANKS = \"2 3 4 5 6 7 8 9 10 J Q K A\".split()\n",
    "    \n",
    "    def __init__(self,suit:str,rank:str) -> None : #init always returns none\n",
    "        self.suit = suit\n",
    "        self.rank = rank\n",
    "    \n",
    "    def __repr__(self) -> str :\n",
    "        return f\"{self.suit}{self.rank}\"\n",
    "        "
   ]
  },
  {
   "cell_type": "markdown",
   "metadata": {},
   "source": [
    "Note that the .__init__() method always should have None as its return type."
   ]
  },
  {
   "cell_type": "code",
   "execution_count": 30,
   "metadata": {
    "collapsed": true
   },
   "outputs": [],
   "source": [
    "#Deck class needs to be defined before player class because Deck as a type won't exist otherwise.\n",
    "class Player:\n",
    "    def __init__(self,name:str,hand:Deck) -> None:\n",
    "        self.name = name\n",
    "        self.hand = hand\n",
    "    \n",
    "    def play_card(self):\n",
    "        \"\"\"Play a card from the player's hand\"\"\"\n",
    "        card = random.choice(self.hand)\n",
    "        self.hand.cards.remove(card)\n",
    "        print(f\"{self.name}: {card!r:<3}\",end =\"\")\n",
    "        return card"
   ]
  },
  {
   "cell_type": "code",
   "execution_count": 29,
   "metadata": {
    "collapsed": false
   },
   "outputs": [],
   "source": [
    "class Deck:\n",
    "    def __init__(self,cards:List[Card]) -> None: \n",
    "        self.cards = cards\n",
    "    \n",
    "    @classmethod\n",
    "    def create(cls,shuffle:bool=False) -> Deck:\n",
    "        \"\"\"Creates a newdeck of 52 cards\"\"\"\n",
    "        cards = [Card(s,r) for r in Card.RANKS for s in Card.SUITS]\n",
    "        if shuffle:\n",
    "            random.shuffle(cards)\n",
    "        return cls(cards)\n",
    "    \n",
    "    def deal(self,num_hands):\n",
    "        \"\"\"Deal the cards in the deck into a number of hands\"\"\"\n",
    "        return tuple(cls(self.cards[i::num_hands]) for i in range(num_hands))"
   ]
  },
  {
   "cell_type": "code",
   "execution_count": 31,
   "metadata": {
    "collapsed": true
   },
   "outputs": [],
   "source": [
    "class Game:\n",
    "    def __init__(self, *names:str) -> None:\n",
    "        deck = Deck.create(shuffle=True)\n",
    "        self.names = (list(names) + \"P1 P2 P3 P4\".split())[:4]\n",
    "        self.hands = {\n",
    "             n: Player(n, h) for n, h in zip(self.names, deck.deal(4))\n",
    "        }\n",
    "    \n",
    "    def play(self):\n",
    "        \"\"\"Play a card game\"\"\"\n",
    "        start_player = random.choice(self.names)\n",
    "        turn_order = self.player_order(start=start_player)\n",
    "        # Play cards from each player's hand until empty\n",
    "        while self.hands[start_player].hand.cards:\n",
    "                for name in turn_order:\n",
    "                    \n",
    "                    self.hands[name].play_card()\n",
    "                print()\n",
    "                \n",
    "    def player_order(self, start=None):\n",
    "        \"\"\"Rotate player order so that start goes first\"\"\"\n",
    "        if start is None:\n",
    "            start = random.choice(self.names)\n",
    "            start_idx = self.names.index(start)\n",
    "            return self.names[start_idx:] + self.names[:start_idx]\n",
    "            "
   ]
  },
  {
   "cell_type": "markdown",
   "metadata": {},
   "source": [
    "## Callables\n",
    "Functions are first-class objects in Python. This means that you can use functions as arguments to other functions. That also means that you need to be able to add type hints representing functions.\n",
    "\n",
    "Functions, as well as lambdas, methods and classes, are represented by typing.Callable. The types of the arguments and the return value are usually also represented. For instance, Callable[[A1, A2, A3], Rt] represents a function with three arguments with types A1, A2, and A3, respectively. The return type of the function is Rt.\n",
    "\n",
    "In the following example, the function do_twice() calls a given function twice and prints the return values:"
   ]
  },
  {
   "cell_type": "code",
   "execution_count": 32,
   "metadata": {
    "collapsed": true
   },
   "outputs": [],
   "source": [
    "from typing import Callable\n",
    "def do_twice(func: Callable[[str], str], argument: str) -> None:\n",
    "    \n",
    "    print(func(argument))\n",
    "    print(func(argument))"
   ]
  },
  {
   "cell_type": "code",
   "execution_count": 33,
   "metadata": {
    "collapsed": true
   },
   "outputs": [],
   "source": [
    "def create_greeting(name: str) -> str:\n",
    "     return f\"Hello {name}\""
   ]
  },
  {
   "cell_type": "code",
   "execution_count": 34,
   "metadata": {
    "collapsed": false
   },
   "outputs": [
    {
     "name": "stdout",
     "output_type": "stream",
     "text": [
      "Hello Jekyll\n",
      "Hello Jekyll\n"
     ]
    }
   ],
   "source": [
    "do_twice(create_greeting, \"Jekyll\")"
   ]
  },
  {
   "cell_type": "markdown",
   "metadata": {},
   "source": [
    "## All the examples in this notebook are taken from the following link\n",
    "https://realpython.com/python-type-checking/#playing-with-python-types-part-2"
   ]
  },
  {
   "cell_type": "code",
   "execution_count": null,
   "metadata": {
    "collapsed": true
   },
   "outputs": [],
   "source": []
  }
 ],
 "metadata": {
  "anaconda-cloud": {},
  "kernelspec": {
   "display_name": "Python [conda env:fastai-cpu]",
   "language": "python",
   "name": "conda-env-fastai-cpu-py"
  },
  "language_info": {
   "codemirror_mode": {
    "name": "ipython",
    "version": 3
   },
   "file_extension": ".py",
   "mimetype": "text/x-python",
   "name": "python",
   "nbconvert_exporter": "python",
   "pygments_lexer": "ipython3",
   "version": "3.6.7"
  }
 },
 "nbformat": 4,
 "nbformat_minor": 2
}
