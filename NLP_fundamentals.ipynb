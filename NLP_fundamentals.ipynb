{
  "nbformat": 4,
  "nbformat_minor": 0,
  "metadata": {
    "colab": {
      "name": "NLP fundamentals.ipynb",
      "version": "0.3.2",
      "provenance": [],
      "include_colab_link": true
    },
    "kernelspec": {
      "name": "python3",
      "display_name": "Python 3"
    }
  },
  "cells": [
    {
      "cell_type": "markdown",
      "metadata": {
        "id": "view-in-github",
        "colab_type": "text"
      },
      "source": [
        "<a href=\"https://colab.research.google.com/github/averma12/Beginning_Data_Science/blob/master/NLP_fundamentals.ipynb\" target=\"_parent\"><img src=\"https://colab.research.google.com/assets/colab-badge.svg\" alt=\"Open In Colab\"/></a>"
      ]
    },
    {
      "metadata": {
        "id": "w8LCC4zJkMnL",
        "colab_type": "code",
        "colab": {}
      },
      "cell_type": "code",
      "source": [
        "import spacy\n",
        "from nltk import Tree"
      ],
      "execution_count": 0,
      "outputs": []
    },
    {
      "metadata": {
        "id": "DWFADfDGrGmm",
        "colab_type": "code",
        "colab": {
          "base_uri": "https://localhost:8080/",
          "height": 68
        },
        "outputId": "5b5f4484-2ce4-40eb-d98d-3ce4d714cc05"
      },
      "cell_type": "code",
      "source": [
        "import nltk\n",
        "nltk.download('punkt')"
      ],
      "execution_count": 17,
      "outputs": [
        {
          "output_type": "stream",
          "text": [
            "[nltk_data] Downloading package punkt to /root/nltk_data...\n",
            "[nltk_data]   Unzipping tokenizers/punkt.zip.\n"
          ],
          "name": "stdout"
        },
        {
          "output_type": "execute_result",
          "data": {
            "text/plain": [
              "True"
            ]
          },
          "metadata": {
            "tags": []
          },
          "execution_count": 17
        }
      ]
    },
    {
      "metadata": {
        "id": "KnHeoSlckbUB",
        "colab_type": "code",
        "colab": {}
      },
      "cell_type": "code",
      "source": [
        "dependency_parser = spacy.load('en')"
      ],
      "execution_count": 0,
      "outputs": []
    },
    {
      "metadata": {
        "id": "ty1Z1IzKkg0E",
        "colab_type": "code",
        "colab": {}
      },
      "cell_type": "code",
      "source": [
        "squids_text = \"\"\"So many squids are jumping out of suitcases these days. \n",
        "You can barely go anywhere without seeing one. I went to the dentist the other day.\n",
        "Sure enough, I saw an angry one jump out of my dentist's bag. She hardly even noticed.\n",
        "\"\"\""
      ],
      "execution_count": 0,
      "outputs": []
    },
    {
      "metadata": {
        "id": "vA_gPeSjk1yG",
        "colab_type": "code",
        "colab": {}
      },
      "cell_type": "code",
      "source": [
        "parsed_squids = dependency_parser(squids_text)"
      ],
      "execution_count": 0,
      "outputs": []
    },
    {
      "metadata": {
        "id": "l-VTCQTnk3LO",
        "colab_type": "code",
        "colab": {
          "base_uri": "https://localhost:8080/",
          "height": 68
        },
        "outputId": "822bf7da-6966-4866-a8da-d978cc15d0dc"
      },
      "cell_type": "code",
      "source": [
        "parsed_squids"
      ],
      "execution_count": 6,
      "outputs": [
        {
          "output_type": "execute_result",
          "data": {
            "text/plain": [
              "So many squids are jumping out of suitcases these days. \n",
              "You can barely go anywhere without seeing one. I went to the dentist the other day.\n",
              "Sure enough, I saw an angry one jump out of my dentist's bag. She hardly even noticed."
            ]
          },
          "metadata": {
            "tags": []
          },
          "execution_count": 6
        }
      ]
    },
    {
      "metadata": {
        "id": "JSalllPbk8V2",
        "colab_type": "code",
        "colab": {}
      },
      "cell_type": "code",
      "source": [
        "my_sentence = \"I saw a cow sitting under a tree with binoculars\"\n",
        "my_parsed_sentence = dependency_parser(my_sentence)"
      ],
      "execution_count": 0,
      "outputs": []
    },
    {
      "metadata": {
        "id": "6dFH8HlblGqe",
        "colab_type": "code",
        "colab": {}
      },
      "cell_type": "code",
      "source": [
        "def to_nltk_tree(node):\n",
        "  if node.n_lefts + node.n_rights > 0:\n",
        "    parsed_child_nodes = [to_nltk_tree(child) for child in node.children]\n",
        "    return Tree(node.orth_, parsed_child_nodes)\n",
        "  else:\n",
        "    return node.orth_"
      ],
      "execution_count": 0,
      "outputs": []
    },
    {
      "metadata": {
        "id": "jwdp6A1nlMmV",
        "colab_type": "code",
        "colab": {
          "base_uri": "https://localhost:8080/",
          "height": 816
        },
        "outputId": "25c8c448-5f55-4506-a6ff-21a71b3ff878"
      },
      "cell_type": "code",
      "source": [
        "for sent in parsed_squids.sents:\n",
        "  to_nltk_tree(sent.root).pretty_print()"
      ],
      "execution_count": 9,
      "outputs": [
        {
          "output_type": "stream",
          "text": [
            "        jumping                    \n",
            "  _________|_____________________   \n",
            " |   |     |       out      |    | \n",
            " |   |     |        |       |    |  \n",
            " |   |   squids     of     days  . \n",
            " |   |     |        |       |    |  \n",
            " So are   many  suitcases these    \n",
            "                                   \n",
            "\n",
            "          go                       \n",
            "  ________|____________________     \n",
            " |   |    |       |      |  without\n",
            " |   |    |       |      |     |    \n",
            " |   |    |       |      |   seeing\n",
            " |   |    |       |      |     |    \n",
            "You can barely anywhere  .    one  \n",
            "\n",
            "            went              \n",
            "  ___________|______________   \n",
            " |     to         |         | \n",
            " |     |          |         |  \n",
            " |  dentist      day        . \n",
            " |     |      ____|____     |  \n",
            " I    the   the      other    \n",
            "                              \n",
            "\n",
            "                   saw                           \n",
            "  __________________|_________                    \n",
            " |   |   |    |              jump                \n",
            " |   |   |    |      _________|__________         \n",
            " |   |   |    |     |    |    |         out      \n",
            " |   |   |    |     |    |    |          |        \n",
            " |   |   |    |     |    |    |          of      \n",
            " |   |   |    |     |    |    |          |        \n",
            " |   |   |    |     |    |    |         bag      \n",
            " |   |   |    |     |    |    |          |        \n",
            " |   |   |  enough  |    |    |       dentist    \n",
            " |   |   |    |     |    |    |     _____|_____   \n",
            " ,   I   .   Sure   an angry one   my          's\n",
            "\n",
            "    noticed         \n",
            "  _____|__________   \n",
            " |     |     |    . \n",
            " |     |     |    |  \n",
            "She  hardly even    \n",
            "                    \n",
            "\n"
          ],
          "name": "stdout"
        }
      ]
    },
    {
      "metadata": {
        "id": "LA2P7QbVlV_c",
        "colab_type": "code",
        "colab": {
          "base_uri": "https://localhost:8080/",
          "height": 187
        },
        "outputId": "ab313a29-7081-4c34-e715-2e93a2abbe05"
      },
      "cell_type": "code",
      "source": [
        "for sent in my_parsed_sentence.sents:\n",
        "  \n",
        "  to_nltk_tree(sent.root).pretty_print()"
      ],
      "execution_count": 10,
      "outputs": [
        {
          "output_type": "stream",
          "text": [
            "        saw                   \n",
            "  _______|_____                \n",
            " |          sitting           \n",
            " |    _________|________       \n",
            " |   |       under      |     \n",
            " |   |         |        |      \n",
            " |  cow       tree     with   \n",
            " |   |         |        |      \n",
            " I   a         a    binoculars\n",
            "\n"
          ],
          "name": "stdout"
        }
      ]
    },
    {
      "metadata": {
        "id": "YZI-leFdoxaj",
        "colab_type": "text"
      },
      "cell_type": "markdown",
      "source": [
        "**BAG OF WORDS (BOW)**\n",
        " Bag-of-words can be an excellent way of looking at language when you want to make predictions concerning topic or sentiment of a text. When grammar and word order are irrelevant, this is probably a good model to use.\n",
        " As its name suggests, bag-of-words does not have much order to its chaos! What it does have is a tally count of each instance for each word. "
      ]
    },
    {
      "metadata": {
        "id": "x3s5xfYgo0rC",
        "colab_type": "code",
        "colab": {}
      },
      "cell_type": "code",
      "source": [
        "from nltk.corpus import stopwords\n",
        "from nltk.tokenize import word_tokenize\n",
        "from nltk.stem import WordNetLemmatizer\n",
        "from collections import Counter\n",
        "import re\n"
      ],
      "execution_count": 0,
      "outputs": []
    },
    {
      "metadata": {
        "id": "8z5W9oLpqu8j",
        "colab_type": "code",
        "colab": {}
      },
      "cell_type": "code",
      "source": [
        "looking_glass_text = \"\"\"\n",
        " However, the egg only got larger and larger, and more and more human: when she had come within a few yards of it, she saw that it had eyes and a nose and mouth; and when she had come close to it, she saw clearly that it was HUMPTY DUMPTY himself. It cant be anybody else! she said to herself. Im as certain of it, as if his name were written all over his face.\n",
        "\n",
        "It might have been written a hundred times, easily, on that enormous face. Humpty Dumpty was sitting with his legs crossed, like a Turk, on the top of a high wallsuch a narrow one that Alice quite wondered how he could keep his balanceand, as his eyes were steadily fixed in the opposite direction, and he didnt take the least notice of her, she thought he must be a stuffed figure after all.\n",
        "\n",
        "And how exactly like an egg he is! she said aloud, standing with her hands ready to catch him, for she was every moment expecting him to fall.\n",
        "\n",
        "Its very provoking, Humpty Dumpty said after a long silence, looking away from Alice as he spoke, to be called an eggVery!\n",
        "\n",
        "I said you looked like an egg, Sir, Alice gently explained. And some eggs are very pretty, you know she added, hoping to turn her remark into a sort of a compliment.\n",
        "\n",
        "Some people, said Humpty Dumpty, looking away from her as usual, have no more sense than a baby!\n",
        "\n",
        "Alice didnt know what to say to this: it wasnt at all like conversation, she thought, as he never said anything to her; in fact, his last remark was evidently addressed to a treeso she stood and softly repeated to herself:\n",
        "\n",
        "     Humpty Dumpty sat on a wall:\n",
        "     Humpty Dumpty had a great fall.\n",
        "     All the Kings horses and all the Kings men\n",
        "     Couldnt put Humpty Dumpty in his place again.\n",
        "\n",
        "That last line is much too long for the poetry, she added, almost out loud, forgetting that Humpty Dumpty would hear her.\n",
        "\n",
        "Dont stand there chattering to yourself like that, Humpty Dumpty said, looking at her for the first time, but tell me your name and your business.\n",
        "\n",
        "My name is Alice, but\n",
        "\n",
        "Its a stupid enough name! Humpty Dumpty interrupted impatiently. What does it mean?\n",
        "\n",
        "Must a name mean something? Alice asked doubtfully.\n",
        "\n",
        "Of course it must, Humpty Dumpty said with a short laugh: my name means the shape I amand a good handsome shape it is, too. With a name like yours, you might be any shape, almost.\n",
        "\n",
        "Why do you sit out here all alone? said Alice, not wishing to begin an argument.\n",
        "\n",
        "Why, because theres nobody with me! cried Humpty Dumpty. Did you think I didnt know the answer to that? Ask another.\n",
        "\n",
        "Dont you think youd be safer down on the ground? Alice went on, not with any idea of making another riddle, but simply in her good-natured anxiety for the queer creature. That wall is so very narrow!\n",
        "\n",
        "What tremendously easy riddles you ask! Humpty Dumpty growled out. Of course I dont think so! Why, if ever I did fall offwhich theres no chance ofbut if I did Here he pursed his lips and looked so solemn and grand that Alice could hardly help laughing. If I did fall, he went on, The King has promised mewith his very own mouthtoto\n",
        "\n",
        "To send all his horses and all his men, Alice interrupted, rather unwisely.\n",
        "\n",
        "Now I declare thats too bad! Humpty Dumpty cried, breaking into a sudden passion. Youve been listening at doorsand behind treesand down chimneysor you couldnt have known it!\n",
        "\n",
        "I havent, indeed! Alice said very gently. Its in a book.\n",
        "\n",
        "Ah, well! They may write such things in a book, Humpty Dumpty said in a calmer tone. Thats what you call a History of England, that is. Now, take a good look at me! Im one that has spoken to a King, I am: mayhap youll never see such another: and to show you Im not proud, you may shake hands with me! And he grinned almost from ear to ear, as he leant forwards (and as nearly as possible fell off the wall in doing so) and offered Alice his hand. She watched him a little anxiously as she took it. If he smiled much more, the ends of his mouth might meet behind, she thought: and then I dont know what would happen to his head! Im afraid it would come off!\n",
        "\n",
        "Yes, all his horses and all his men, Humpty Dumpty went on. Theyd pick me up again in a minute, they would! However, this conversation is going on a little too fast: lets go back to the last remark but one.\n",
        "\n",
        "Im afraid I cant quite remember it, Alice said very politely.\n",
        "\n",
        "In that case we start fresh, said Humpty Dumpty, and its my turn to choose a subject (He talks about it just as if it was a game! thought Alice.) So heres a question for you. How old did you say you were?\n",
        "\n",
        "Alice made a short calculation, and said Seven years and six months.\n",
        "\n",
        "Wrong! Humpty Dumpty exclaimed triumphantly. You never said a word like it!\n",
        "\n",
        "I though you meant How old are you? Alice explained.\n",
        "\n",
        "If Id meant that, Id have said it, said Humpty Dumpty. \n",
        "\"\"\""
      ],
      "execution_count": 0,
      "outputs": []
    },
    {
      "metadata": {
        "id": "65zUT7fsqx6_",
        "colab_type": "code",
        "colab": {}
      },
      "cell_type": "code",
      "source": [
        "text = looking_glass_text"
      ],
      "execution_count": 0,
      "outputs": []
    },
    {
      "metadata": {
        "id": "arTInnH1q8a8",
        "colab_type": "code",
        "colab": {}
      },
      "cell_type": "code",
      "source": [
        "cleaned = re.sub('\\W+', ' ', text).lower()\n",
        "tokenized = word_tokenize(cleaned)"
      ],
      "execution_count": 0,
      "outputs": []
    },
    {
      "metadata": {
        "id": "svcfOIrarQU3",
        "colab_type": "code",
        "colab": {
          "base_uri": "https://localhost:8080/",
          "height": 51
        },
        "outputId": "9810dfd8-4c87-4db4-b373-501092dfcc2b"
      },
      "cell_type": "code",
      "source": [
        "nltk.download('stopwords')\n",
        "stop_words = stopwords.words('english')\n",
        "filtered = [word for word in tokenized if word not in stop_words]"
      ],
      "execution_count": 20,
      "outputs": [
        {
          "output_type": "stream",
          "text": [
            "[nltk_data] Downloading package stopwords to /root/nltk_data...\n",
            "[nltk_data]   Unzipping corpora/stopwords.zip.\n"
          ],
          "name": "stdout"
        }
      ]
    },
    {
      "metadata": {
        "id": "M9xEUKscrYgP",
        "colab_type": "code",
        "colab": {}
      },
      "cell_type": "code",
      "source": [
        "#normalizer = WordNetLemmatizer()\n",
        "#normalized = [normalizer.lemmatize(token, get_part_of_speech(token)) for token in filtered]"
      ],
      "execution_count": 0,
      "outputs": []
    },
    {
      "metadata": {
        "id": "2pHbFNiprl2z",
        "colab_type": "code",
        "colab": {
          "base_uri": "https://localhost:8080/",
          "height": 54
        },
        "outputId": "a926078e-0915-4d94-990a-ee5a3a86ba9a"
      },
      "cell_type": "code",
      "source": [
        "bag_of_looking_glass_words = Counter(filtered)\n",
        "print(bag_of_looking_glass_words)"
      ],
      "execution_count": 25,
      "outputs": [
        {
          "output_type": "stream",
          "text": [
            "Counter({'humpty': 19, 'dumpty': 19, 'said': 17, 'alice': 16, 'name': 7, 'like': 7, 'im': 5, 'thought': 4, 'fall': 4, 'know': 4, 'would': 4, 'dont': 4, 'egg': 3, 'come': 3, 'might': 3, 'one': 3, 'didnt': 3, 'must': 3, 'looking': 3, 'remark': 3, 'never': 3, 'last': 3, 'wall': 3, 'horses': 3, 'men': 3, 'almost': 3, 'shape': 3, 'good': 3, 'think': 3, 'another': 3, 'went': 3, 'however': 2, 'larger': 2, 'saw': 2, 'eyes': 2, 'mouth': 2, 'cant': 2, 'written': 2, 'face': 2, 'narrow': 2, 'quite': 2, 'could': 2, 'take': 2, 'hands': 2, 'long': 2, 'away': 2, 'looked': 2, 'gently': 2, 'explained': 2, 'added': 2, 'turn': 2, 'say': 2, 'conversation': 2, 'kings': 2, 'couldnt': 2, 'much': 2, 'interrupted': 2, 'mean': 2, 'course': 2, 'short': 2, 'theres': 2, 'cried': 2, 'ask': 2, 'king': 2, 'thats': 2, 'behind': 2, 'book': 2, 'may': 2, 'ear': 2, 'little': 2, 'afraid': 2, 'old': 2, 'meant': 2, 'id': 2, 'got': 1, 'human': 1, 'within': 1, 'yards': 1, 'nose': 1, 'close': 1, 'clearly': 1, 'anybody': 1, 'else': 1, 'certain': 1, 'hundred': 1, 'times': 1, 'easily': 1, 'enormous': 1, 'sitting': 1, 'legs': 1, 'crossed': 1, 'turk': 1, 'top': 1, 'high': 1, 'wallsuch': 1, 'wondered': 1, 'keep': 1, 'balanceand': 1, 'steadily': 1, 'fixed': 1, 'opposite': 1, 'direction': 1, 'least': 1, 'notice': 1, 'stuffed': 1, 'figure': 1, 'exactly': 1, 'aloud': 1, 'standing': 1, 'ready': 1, 'catch': 1, 'every': 1, 'moment': 1, 'expecting': 1, 'provoking': 1, 'silence': 1, 'spoke': 1, 'called': 1, 'eggvery': 1, 'sir': 1, 'eggs': 1, 'pretty': 1, 'hoping': 1, 'sort': 1, 'compliment': 1, 'people': 1, 'usual': 1, 'sense': 1, 'baby': 1, 'wasnt': 1, 'anything': 1, 'fact': 1, 'evidently': 1, 'addressed': 1, 'treeso': 1, 'stood': 1, 'softly': 1, 'repeated': 1, 'sat': 1, 'great': 1, 'put': 1, 'place': 1, 'line': 1, 'poetry': 1, 'loud': 1, 'forgetting': 1, 'hear': 1, 'stand': 1, 'chattering': 1, 'first': 1, 'time': 1, 'tell': 1, 'business': 1, 'stupid': 1, 'enough': 1, 'impatiently': 1, 'something': 1, 'asked': 1, 'doubtfully': 1, 'laugh': 1, 'means': 1, 'amand': 1, 'handsome': 1, 'sit': 1, 'alone': 1, 'wishing': 1, 'begin': 1, 'argument': 1, 'nobody': 1, 'answer': 1, 'youd': 1, 'safer': 1, 'ground': 1, 'idea': 1, 'making': 1, 'riddle': 1, 'simply': 1, 'natured': 1, 'anxiety': 1, 'queer': 1, 'creature': 1, 'tremendously': 1, 'easy': 1, 'riddles': 1, 'growled': 1, 'ever': 1, 'offwhich': 1, 'chance': 1, 'ofbut': 1, 'pursed': 1, 'lips': 1, 'solemn': 1, 'grand': 1, 'hardly': 1, 'help': 1, 'laughing': 1, 'promised': 1, 'mewith': 1, 'mouthtoto': 1, 'send': 1, 'rather': 1, 'unwisely': 1, 'declare': 1, 'bad': 1, 'breaking': 1, 'sudden': 1, 'passion': 1, 'youve': 1, 'listening': 1, 'doorsand': 1, 'treesand': 1, 'chimneysor': 1, 'known': 1, 'havent': 1, 'indeed': 1, 'ah': 1, 'well': 1, 'write': 1, 'things': 1, 'calmer': 1, 'tone': 1, 'call': 1, 'history': 1, 'england': 1, 'look': 1, 'spoken': 1, 'mayhap': 1, 'youll': 1, 'see': 1, 'show': 1, 'proud': 1, 'shake': 1, 'grinned': 1, 'leant': 1, 'forwards': 1, 'nearly': 1, 'possible': 1, 'fell': 1, 'offered': 1, 'hand': 1, 'watched': 1, 'anxiously': 1, 'took': 1, 'smiled': 1, 'ends': 1, 'meet': 1, 'happen': 1, 'head': 1, 'yes': 1, 'theyd': 1, 'pick': 1, 'minute': 1, 'going': 1, 'fast': 1, 'lets': 1, 'go': 1, 'back': 1, 'remember': 1, 'politely': 1, 'case': 1, 'start': 1, 'fresh': 1, 'choose': 1, 'subject': 1, 'talks': 1, 'game': 1, 'heres': 1, 'question': 1, 'made': 1, 'calculation': 1, 'seven': 1, 'years': 1, 'six': 1, 'months': 1, 'wrong': 1, 'exclaimed': 1, 'triumphantly': 1, 'word': 1, 'though': 1})\n"
          ],
          "name": "stdout"
        }
      ]
    },
    {
      "metadata": {
        "id": "GFyIidVLtgYq",
        "colab_type": "code",
        "colab": {}
      },
      "cell_type": "code",
      "source": [
        ""
      ],
      "execution_count": 0,
      "outputs": []
    },
    {
      "metadata": {
        "id": "V1S3SzaQuLqK",
        "colab_type": "text"
      },
      "cell_type": "markdown",
      "source": [
        "Unlike bag-of-words, the n-gram model considers a sequence of some number (n) units and calculates the probability of each unit in a body of language given the preceding sequence of length n. Because of this, n-gram probabilities with larger n values can be impressive at language prediction."
      ]
    },
    {
      "metadata": {
        "id": "BWP3ti-8uMqA",
        "colab_type": "code",
        "colab": {}
      },
      "cell_type": "code",
      "source": [
        ""
      ],
      "execution_count": 0,
      "outputs": []
    }
  ]
}