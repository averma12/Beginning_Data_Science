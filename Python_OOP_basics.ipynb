{
  "nbformat": 4,
  "nbformat_minor": 0,
  "metadata": {
    "colab": {
      "name": "Python_OOP_basics.ipynb",
      "version": "0.3.2",
      "provenance": [],
      "include_colab_link": true
    },
    "kernelspec": {
      "name": "python3",
      "display_name": "Python 3"
    }
  },
  "cells": [
    {
      "cell_type": "markdown",
      "metadata": {
        "id": "view-in-github",
        "colab_type": "text"
      },
      "source": [
        "[View in Colaboratory](https://colab.research.google.com/github/averma12/Beginning_Data_Science/blob/master/Python_OOP_basics.ipynb)"
      ]
    },
    {
      "metadata": {
        "id": "pffa5ViBsB_i",
        "colab_type": "code",
        "colab": {}
      },
      "cell_type": "code",
      "source": [
        "import matplotlib.pyplot as plt\n",
        "import os"
      ],
      "execution_count": 0,
      "outputs": []
    },
    {
      "metadata": {
        "id": "2GaUYFhRsjOd",
        "colab_type": "text"
      },
      "cell_type": "markdown",
      "source": [
        "##Basic OOP in Python\n",
        "We will be visiting the basic OOP operations used in Python when using and building a deep learning library namely Classes,Abstract Classes, Inheritance etc."
      ]
    },
    {
      "metadata": {
        "id": "ir5Lf0t7tCFd",
        "colab_type": "code",
        "colab": {}
      },
      "cell_type": "code",
      "source": [
        "#Abstract class. A class is abstract if it maintains abstract methods. i.e methods that are not defined in the class but declared for the purpose\n",
        "# of inheritance\n",
        "\n",
        "class Callback:\n",
        "    '''\n",
        "    An abstract class that all callback(e.g., LossRecorder) classes extends from. \n",
        "    Must be extended before usage.\n",
        "    '''\n",
        "    def on_train_begin(self): pass\n",
        "    def on_batch_begin(self): pass\n",
        "    def on_phase_begin(self): pass\n",
        "    def on_epoch_end(self, metrics): pass\n",
        "    def on_phase_end(self): pass\n",
        "    def on_batch_end(self, metrics): pass\n",
        "    def on_train_end(self): pass"
      ],
      "execution_count": 0,
      "outputs": []
    },
    {
      "metadata": {
        "id": "LViiz7y7xDgL",
        "colab_type": "code",
        "colab": {}
      },
      "cell_type": "code",
      "source": [
        "class LossRecorder(Callback):\n",
        "    '''\n",
        "    Saves and displays loss functions and other metrics. \n",
        "    Default sched when none is specified in a learner. \n",
        "    '''\n",
        "    def __init__(self, layer_opt, save_path='', record_mom=False, metrics=[]):\n",
        "        super().__init__()\n",
        "        self.layer_opt=layer_opt\n",
        "        self.init_lrs=np.array(layer_opt.lrs)\n",
        "        self.save_path, self.record_mom, self.metrics = save_path, record_mom, metrics\n",
        "\n",
        "    def on_train_begin(self):\n",
        "        self.losses,self.lrs,self.iterations,self.epochs,self.times = [],[],[],[],[]\n",
        "        self.start_at = timer()\n",
        "        self.val_losses, self.rec_metrics = [], []\n",
        "        if self.record_mom:\n",
        "            self.momentums = []\n",
        "        self.iteration = 0\n",
        "        self.epoch = 0\n",
        "\n",
        "    def on_epoch_end(self, metrics):\n",
        "        self.epoch += 1\n",
        "        self.epochs.append(self.iteration)\n",
        "        self.times.append(timer() - self.start_at)\n",
        "        self.save_metrics(metrics)\n",
        "\n",
        "    def on_batch_end(self, loss):\n",
        "        self.iteration += 1\n",
        "        self.lrs.append(self.layer_opt.lr)\n",
        "        self.iterations.append(self.iteration)\n",
        "        if isinstance(loss, list):\n",
        "            self.losses.append(loss[0])\n",
        "            self.save_metrics(loss[1:])\n",
        "        else: self.losses.append(loss)\n",
        "        if self.record_mom: self.momentums.append(self.layer_opt.mom)\n",
        "\n",
        "    def save_metrics(self,vals):\n",
        "        self.val_losses.append(delistify(vals[0]))\n",
        "        if len(vals) > 2: self.rec_metrics.append(vals[1:])\n",
        "        elif len(vals) == 2: self.rec_metrics.append(vals[1])\n",
        "\n",
        "    def plot_loss(self, n_skip=10, n_skip_end=5):\n",
        "        '''\n",
        "        plots loss function as function of iterations. \n",
        "        When used in Jupyternotebook, plot will be displayed in notebook. Else, plot will be displayed in console and both plot and loss are saved in save_path. \n",
        "        '''\n",
        "        if not in_ipynb(): plt.switch_backend('agg')\n",
        "        plt.plot(self.iterations[n_skip:-n_skip_end], self.losses[n_skip:-n_skip_end])\n",
        "        if not in_ipynb():\n",
        "            plt.savefig(os.path.join(self.save_path, 'loss_plot.png'))\n",
        "            np.save(os.path.join(self.save_path, 'losses.npy'), self.losses[10:])\n",
        "\n",
        "    def plot_lr(self):\n",
        "        '''Plots learning rate in jupyter notebook or console, depending on the enviroment of the learner.'''\n",
        "        if not in_ipynb():\n",
        "            plt.switch_backend('agg')\n",
        "        if self.record_mom:\n",
        "            fig, axs = plt.subplots(1,2,figsize=(12,4))\n",
        "            for i in range(0,2): axs[i].set_xlabel('iterations')\n",
        "            axs[0].set_ylabel('learning rate')\n",
        "            axs[1].set_ylabel('momentum')\n",
        "            axs[0].plot(self.iterations,self.lrs)\n",
        "            axs[1].plot(self.iterations,self.momentums)   \n",
        "        else:\n",
        "            plt.xlabel(\"iterations\")\n",
        "            plt.ylabel(\"learning rate\")\n",
        "            plt.plot(self.iterations, self.lrs)\n",
        "        if not in_ipynb():\n",
        "            plt.savefig(os.path.join(self.save_path, 'lr_plot.png'))"
      ],
      "execution_count": 0,
      "outputs": []
    }
  ]
}