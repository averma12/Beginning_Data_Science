{
 "cells": [
  {
   "cell_type": "markdown",
   "metadata": {},
   "source": [
    "## File operations and requests in Python"
   ]
  },
  {
   "cell_type": "markdown",
   "metadata": {},
   "source": [
    "One of the primary parts of any ML or Deep Learning Pipeline is downloading data and saving it in a file and of course reading it\n",
    "This is in a series of notebooks of Deep Learning models based on what I've read and understood."
   ]
  },
  {
   "cell_type": "markdown",
   "metadata": {},
   "source": [
    "### Downloading requests\n",
    "Downloading requests , I'm using the requests library. \n",
    "Will be downloading a zip from an api and saving it into a directory in disk and unpacking it"
   ]
  },
  {
   "cell_type": "code",
   "execution_count": 4,
   "metadata": {
    "collapsed": true
   },
   "outputs": [],
   "source": [
    "import requests\n",
    "import os\n",
    "import shutil\n",
    "import sys\n",
    "from pathlib import Path"
   ]
  },
  {
   "cell_type": "code",
   "execution_count": 5,
   "metadata": {
    "collapsed": false
   },
   "outputs": [
    {
     "data": {
      "text/plain": [
       "PosixPath('/Users/abhinavverma/Desktop/git_upload/Beginning_Data_Science')"
      ]
     },
     "execution_count": 5,
     "metadata": {},
     "output_type": "execute_result"
    }
   ],
   "source": [
    "Path.cwd()"
   ]
  },
  {
   "cell_type": "code",
   "execution_count": 19,
   "metadata": {
    "collapsed": true
   },
   "outputs": [],
   "source": [
    "def download(url, filename):\n",
    "    response = requests.get(url, stream=True)\n",
    "    total = response.headers.get('content-length')\n",
    "    total = int(total)\n",
    "    if total is None:\n",
    "        print(\"Nothing to download\")\n",
    "        return\n",
    "    \n",
    "    \n",
    "    with open(filename, 'wb') as f:\n",
    "        \n",
    "            downloaded = 0\n",
    "            \n",
    "            for data in response.iter_content(chunk_size=max(int(total/1000), 1024*1024)):\n",
    "                downloaded += len(data)\n",
    "                f.write(data)\n",
    "                done = int(50*downloaded/total)\n",
    "                sys.stdout.write('\\r[{}{}]'.format('█' * done, '.' * (50-done)))\n",
    "                sys.stdout.flush()\n",
    "    sys.stdout.write('Completed')"
   ]
  },
  {
   "cell_type": "code",
   "execution_count": 36,
   "metadata": {
    "collapsed": true
   },
   "outputs": [],
   "source": [
    "def unpack_archive(filename):\n",
    "    \n",
    "    shutil.unpack_archive(str(filename),os.path.dirname(filename))\n",
    "    print(\"unpack done\")"
   ]
  },
  {
   "cell_type": "code",
   "execution_count": null,
   "metadata": {
    "collapsed": true
   },
   "outputs": [],
   "source": []
  },
  {
   "cell_type": "code",
   "execution_count": 16,
   "metadata": {
    "collapsed": true
   },
   "outputs": [],
   "source": [
    "def getFilename(url):\n",
    "    file = url.split('/')[-1]\n",
    "    \n",
    "    os.makedirs('data',exist_ok=True)\n",
    "    \n",
    "    filename = Path.cwd()/\"data\"/file\n",
    "    \n",
    "    return filename\n",
    "    "
   ]
  },
  {
   "cell_type": "code",
   "execution_count": 17,
   "metadata": {
    "collapsed": false
   },
   "outputs": [
    {
     "name": "stdout",
     "output_type": "stream",
     "text": [
      "train-test-data.zip\n",
      "/Users/abhinavverma/Desktop/git_upload/Beginning_Data_Science/data/train-test-data.zip\n"
     ]
    },
    {
     "data": {
      "text/plain": [
       "PosixPath('/Users/abhinavverma/Desktop/git_upload/Beginning_Data_Science/data/train-test-data.zip')"
      ]
     },
     "execution_count": 17,
     "metadata": {},
     "output_type": "execute_result"
    }
   ],
   "source": [
    "url = \"https://s3.amazonaws.com/video.udacity-data.com/topher/2018/May/5aea1b91_train-test-data/train-test-data.zip\"\n",
    "filename = getFilename(url)\n",
    "filename"
   ]
  },
  {
   "cell_type": "code",
   "execution_count": 26,
   "metadata": {
    "collapsed": false
   },
   "outputs": [
    {
     "name": "stdout",
     "output_type": "stream",
     "text": [
      "[██████████████████████████████████████████████████]Completed"
     ]
    }
   ],
   "source": [
    "download(url,filename)"
   ]
  },
  {
   "cell_type": "code",
   "execution_count": 37,
   "metadata": {
    "collapsed": false
   },
   "outputs": [
    {
     "name": "stdout",
     "output_type": "stream",
     "text": [
      "unpack done\n"
     ]
    }
   ],
   "source": [
    "unpack_archive(filename)"
   ]
  },
  {
   "cell_type": "code",
   "execution_count": 29,
   "metadata": {
    "collapsed": false
   },
   "outputs": [
    {
     "data": {
      "text/plain": [
       "'/Users/abhinavverma/Desktop/git_upload/Beginning_Data_Science/data'"
      ]
     },
     "execution_count": 29,
     "metadata": {},
     "output_type": "execute_result"
    }
   ],
   "source": [
    "parent = filename.parent\n",
    "str(parent)"
   ]
  },
  {
   "cell_type": "code",
   "execution_count": 23,
   "metadata": {
    "collapsed": true
   },
   "outputs": [],
   "source": [
    "def unzip_data(url):\n",
    "    filename = getFilename(url)\n",
    "    download(url)\n",
    "    unpack_archive(filename)"
   ]
  },
  {
   "cell_type": "code",
   "execution_count": 33,
   "metadata": {
    "collapsed": false
   },
   "outputs": [
    {
     "data": {
      "text/plain": [
       "'/Users/abhinavverma/Desktop/git_upload/Beginning_Data_Science/data'"
      ]
     },
     "execution_count": 33,
     "metadata": {},
     "output_type": "execute_result"
    }
   ],
   "source": [
    "os.path.dirname('/Users/abhinavverma/Desktop/git_upload/Beginning_Data_Science/data/train-test-data.zip')"
   ]
  },
  {
   "cell_type": "code",
   "execution_count": null,
   "metadata": {
    "collapsed": true
   },
   "outputs": [],
   "source": []
  }
 ],
 "metadata": {
  "kernelspec": {
   "display_name": "Python [conda env:fastai-cpu]",
   "language": "python",
   "name": "conda-env-fastai-cpu-py"
  },
  "language_info": {
   "codemirror_mode": {
    "name": "ipython",
    "version": 3
   },
   "file_extension": ".py",
   "mimetype": "text/x-python",
   "name": "python",
   "nbconvert_exporter": "python",
   "pygments_lexer": "ipython3",
   "version": "3.6.7"
  }
 },
 "nbformat": 4,
 "nbformat_minor": 2
}
