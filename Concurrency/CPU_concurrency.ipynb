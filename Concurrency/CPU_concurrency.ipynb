{
  "nbformat": 4,
  "nbformat_minor": 0,
  "metadata": {
    "colab": {
      "name": "CPU_concurrency.ipynb",
      "version": "0.3.2",
      "provenance": [],
      "include_colab_link": true
    },
    "kernelspec": {
      "name": "python3",
      "display_name": "Python 3"
    }
  },
  "cells": [
    {
      "cell_type": "markdown",
      "metadata": {
        "id": "view-in-github",
        "colab_type": "text"
      },
      "source": [
        "<a href=\"https://colab.research.google.com/github/averma12/Beginning_Data_Science/blob/master/Concurrency/CPU_concurrency.ipynb\" target=\"_parent\"><img src=\"https://colab.research.google.com/assets/colab-badge.svg\" alt=\"Open In Colab\"/></a>"
      ]
    },
    {
      "metadata": {
        "id": "jPsjKCGbO-CC",
        "colab_type": "code",
        "colab": {}
      },
      "cell_type": "code",
      "source": [
        "import numpy as np\n",
        "import time"
      ],
      "execution_count": 0,
      "outputs": []
    },
    {
      "metadata": {
        "id": "UhCHccnnPIXc",
        "colab_type": "code",
        "colab": {}
      },
      "cell_type": "code",
      "source": [
        "weights = np.random.rand(10,4)"
      ],
      "execution_count": 0,
      "outputs": []
    },
    {
      "metadata": {
        "id": "IDBah27XPOhM",
        "colab_type": "code",
        "colab": {
          "base_uri": "https://localhost:8080/",
          "height": 187
        },
        "outputId": "a6596fb6-8857-495b-fede-5dca1eafb5ef"
      },
      "cell_type": "code",
      "source": [
        "weights"
      ],
      "execution_count": 3,
      "outputs": [
        {
          "output_type": "execute_result",
          "data": {
            "text/plain": [
              "array([[0.8470388 , 0.13384195, 0.93115235, 0.40136821],\n",
              "       [0.9477438 , 0.25484698, 0.38141818, 0.44521354],\n",
              "       [0.06331423, 0.09132156, 0.56155844, 0.99474081],\n",
              "       [0.60040935, 0.8596206 , 0.49752426, 0.56938783],\n",
              "       [0.42490657, 0.35377412, 0.08522671, 0.33897087],\n",
              "       [0.00875928, 0.63208945, 0.44124782, 0.97379358],\n",
              "       [0.21076876, 0.25088867, 0.75071094, 0.5370667 ],\n",
              "       [0.08135293, 0.37104073, 0.47604321, 0.02849275],\n",
              "       [0.76720209, 0.33074823, 0.80662329, 0.52731084],\n",
              "       [0.94681313, 0.66405979, 0.11136873, 0.78453245]])"
            ]
          },
          "metadata": {
            "tags": []
          },
          "execution_count": 3
        }
      ]
    },
    {
      "metadata": {
        "id": "pKH5shg1PWVi",
        "colab_type": "code",
        "colab": {}
      },
      "cell_type": "code",
      "source": [
        "vec = np.random.rand(1,4)"
      ],
      "execution_count": 0,
      "outputs": []
    },
    {
      "metadata": {
        "id": "veDtn4xQQZc3",
        "colab_type": "code",
        "colab": {}
      },
      "cell_type": "code",
      "source": [
        "def cpu_bound():\n",
        "    return vec.dot(weights.T)"
      ],
      "execution_count": 0,
      "outputs": []
    },
    {
      "metadata": {
        "id": "icdiBbLfQ02r",
        "colab_type": "code",
        "colab": {
          "base_uri": "https://localhost:8080/",
          "height": 34
        },
        "outputId": "3df34ecb-3232-4357-8064-5dc7be4c731d"
      },
      "cell_type": "code",
      "source": [
        "start_time = time.time()\n",
        "cpu_bound()\n",
        "duration = time.time() - start_time\n",
        "print(f\"Duration {duration} seconds\")"
      ],
      "execution_count": 11,
      "outputs": [
        {
          "output_type": "stream",
          "text": [
            "Duration 0.0006973743438720703 seconds\n"
          ],
          "name": "stdout"
        }
      ]
    }
  ]
}