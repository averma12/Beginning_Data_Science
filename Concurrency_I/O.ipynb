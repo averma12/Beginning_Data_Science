{
  "nbformat": 4,
  "nbformat_minor": 0,
  "metadata": {
    "colab": {
      "name": "Concurrency.ipynb",
      "version": "0.3.2",
      "provenance": [],
      "include_colab_link": true
    },
    "kernelspec": {
      "name": "python3",
      "display_name": "Python 3"
    }
  },
  "cells": [
    {
      "cell_type": "markdown",
      "metadata": {
        "id": "view-in-github",
        "colab_type": "text"
      },
      "source": [
        "<a href=\"https://colab.research.google.com/github/averma12/Beginning_Data_Science/blob/master/Concurrency_I/O.ipynb\" target=\"_parent\"><img src=\"https://colab.research.google.com/assets/colab-badge.svg\" alt=\"Open In Colab\"/></a>"
      ]
    },
    {
      "metadata": {
        "id": "1MuFGTAZewQM",
        "colab_type": "code",
        "colab": {}
      },
      "cell_type": "code",
      "source": [
        "#Sync version of requests\n",
        "import requests\n",
        "import time"
      ],
      "execution_count": 0,
      "outputs": []
    },
    {
      "metadata": {
        "id": "FhEtnxTGf7FU",
        "colab_type": "code",
        "colab": {}
      },
      "cell_type": "code",
      "source": [
        "def download_site(url, session):\n",
        "    with session.get(url) as response:\n",
        "        print(f\"Read {len(response.content)} from {url}\")"
      ],
      "execution_count": 0,
      "outputs": []
    },
    {
      "metadata": {
        "id": "BN5txv50gFpw",
        "colab_type": "code",
        "colab": {}
      },
      "cell_type": "code",
      "source": [
        "def download_all_sites(sites):\n",
        "    with requests.Session() as session:\n",
        "        for url in sites:\n",
        "            download_site(url, session)"
      ],
      "execution_count": 0,
      "outputs": []
    },
    {
      "metadata": {
        "id": "0JCYcPIggICa",
        "colab_type": "code",
        "colab": {
          "base_uri": "https://localhost:8080/",
          "height": 2771
        },
        "outputId": "c31af5a0-0d90-4072-98f3-4b2e6a67b5a0"
      },
      "cell_type": "code",
      "source": [
        " sites = [\n",
        "        \"http://www.jython.org\",\n",
        "        \"http://olympus.realpython.org/dice\",\n",
        "    ] * 80\n",
        "print(len(sites))\n",
        "start_time = time.time()\n",
        "download_all_sites(sites)\n",
        "duration = time.time() - start_time\n",
        "print(f\"Downloaded {len(sites)} in {duration} seconds\")"
      ],
      "execution_count": 5,
      "outputs": [
        {
          "output_type": "stream",
          "text": [
            "160\n",
            "Read 19210 from http://www.jython.org\n",
            "Read 274 from http://olympus.realpython.org/dice\n",
            "Read 19210 from http://www.jython.org\n",
            "Read 274 from http://olympus.realpython.org/dice\n",
            "Read 19210 from http://www.jython.org\n",
            "Read 274 from http://olympus.realpython.org/dice\n",
            "Read 19210 from http://www.jython.org\n",
            "Read 274 from http://olympus.realpython.org/dice\n",
            "Read 19210 from http://www.jython.org\n",
            "Read 274 from http://olympus.realpython.org/dice\n",
            "Read 19210 from http://www.jython.org\n",
            "Read 274 from http://olympus.realpython.org/dice\n",
            "Read 19210 from http://www.jython.org\n",
            "Read 274 from http://olympus.realpython.org/dice\n",
            "Read 19210 from http://www.jython.org\n",
            "Read 274 from http://olympus.realpython.org/dice\n",
            "Read 19210 from http://www.jython.org\n",
            "Read 274 from http://olympus.realpython.org/dice\n",
            "Read 19210 from http://www.jython.org\n",
            "Read 274 from http://olympus.realpython.org/dice\n",
            "Read 19210 from http://www.jython.org\n",
            "Read 274 from http://olympus.realpython.org/dice\n",
            "Read 19210 from http://www.jython.org\n",
            "Read 274 from http://olympus.realpython.org/dice\n",
            "Read 19210 from http://www.jython.org\n",
            "Read 274 from http://olympus.realpython.org/dice\n",
            "Read 19210 from http://www.jython.org\n",
            "Read 274 from http://olympus.realpython.org/dice\n",
            "Read 19210 from http://www.jython.org\n",
            "Read 274 from http://olympus.realpython.org/dice\n",
            "Read 19210 from http://www.jython.org\n",
            "Read 274 from http://olympus.realpython.org/dice\n",
            "Read 19210 from http://www.jython.org\n",
            "Read 274 from http://olympus.realpython.org/dice\n",
            "Read 19210 from http://www.jython.org\n",
            "Read 274 from http://olympus.realpython.org/dice\n",
            "Read 19210 from http://www.jython.org\n",
            "Read 274 from http://olympus.realpython.org/dice\n",
            "Read 19210 from http://www.jython.org\n",
            "Read 274 from http://olympus.realpython.org/dice\n",
            "Read 19210 from http://www.jython.org\n",
            "Read 274 from http://olympus.realpython.org/dice\n",
            "Read 19210 from http://www.jython.org\n",
            "Read 274 from http://olympus.realpython.org/dice\n",
            "Read 19210 from http://www.jython.org\n",
            "Read 274 from http://olympus.realpython.org/dice\n",
            "Read 19210 from http://www.jython.org\n",
            "Read 274 from http://olympus.realpython.org/dice\n",
            "Read 19210 from http://www.jython.org\n",
            "Read 274 from http://olympus.realpython.org/dice\n",
            "Read 19210 from http://www.jython.org\n",
            "Read 274 from http://olympus.realpython.org/dice\n",
            "Read 19210 from http://www.jython.org\n",
            "Read 274 from http://olympus.realpython.org/dice\n",
            "Read 19210 from http://www.jython.org\n",
            "Read 274 from http://olympus.realpython.org/dice\n",
            "Read 19210 from http://www.jython.org\n",
            "Read 274 from http://olympus.realpython.org/dice\n",
            "Read 19210 from http://www.jython.org\n",
            "Read 274 from http://olympus.realpython.org/dice\n",
            "Read 19210 from http://www.jython.org\n",
            "Read 274 from http://olympus.realpython.org/dice\n",
            "Read 19210 from http://www.jython.org\n",
            "Read 274 from http://olympus.realpython.org/dice\n",
            "Read 19210 from http://www.jython.org\n",
            "Read 274 from http://olympus.realpython.org/dice\n",
            "Read 19210 from http://www.jython.org\n",
            "Read 274 from http://olympus.realpython.org/dice\n",
            "Read 19210 from http://www.jython.org\n",
            "Read 274 from http://olympus.realpython.org/dice\n",
            "Read 19210 from http://www.jython.org\n",
            "Read 274 from http://olympus.realpython.org/dice\n",
            "Read 19210 from http://www.jython.org\n",
            "Read 274 from http://olympus.realpython.org/dice\n",
            "Read 19210 from http://www.jython.org\n",
            "Read 274 from http://olympus.realpython.org/dice\n",
            "Read 19210 from http://www.jython.org\n",
            "Read 274 from http://olympus.realpython.org/dice\n",
            "Read 19210 from http://www.jython.org\n",
            "Read 274 from http://olympus.realpython.org/dice\n",
            "Read 19210 from http://www.jython.org\n",
            "Read 274 from http://olympus.realpython.org/dice\n",
            "Read 19210 from http://www.jython.org\n",
            "Read 274 from http://olympus.realpython.org/dice\n",
            "Read 19210 from http://www.jython.org\n",
            "Read 274 from http://olympus.realpython.org/dice\n",
            "Read 19210 from http://www.jython.org\n",
            "Read 274 from http://olympus.realpython.org/dice\n",
            "Read 19210 from http://www.jython.org\n",
            "Read 274 from http://olympus.realpython.org/dice\n",
            "Read 19210 from http://www.jython.org\n",
            "Read 274 from http://olympus.realpython.org/dice\n",
            "Read 19210 from http://www.jython.org\n",
            "Read 274 from http://olympus.realpython.org/dice\n",
            "Read 19210 from http://www.jython.org\n",
            "Read 274 from http://olympus.realpython.org/dice\n",
            "Read 19210 from http://www.jython.org\n",
            "Read 274 from http://olympus.realpython.org/dice\n",
            "Read 19210 from http://www.jython.org\n",
            "Read 274 from http://olympus.realpython.org/dice\n",
            "Read 19210 from http://www.jython.org\n",
            "Read 274 from http://olympus.realpython.org/dice\n",
            "Read 19210 from http://www.jython.org\n",
            "Read 274 from http://olympus.realpython.org/dice\n",
            "Read 19210 from http://www.jython.org\n",
            "Read 274 from http://olympus.realpython.org/dice\n",
            "Read 19210 from http://www.jython.org\n",
            "Read 274 from http://olympus.realpython.org/dice\n",
            "Read 19210 from http://www.jython.org\n",
            "Read 274 from http://olympus.realpython.org/dice\n",
            "Read 19210 from http://www.jython.org\n",
            "Read 274 from http://olympus.realpython.org/dice\n",
            "Read 19210 from http://www.jython.org\n",
            "Read 274 from http://olympus.realpython.org/dice\n",
            "Read 19210 from http://www.jython.org\n",
            "Read 274 from http://olympus.realpython.org/dice\n",
            "Read 19210 from http://www.jython.org\n",
            "Read 274 from http://olympus.realpython.org/dice\n",
            "Read 19210 from http://www.jython.org\n",
            "Read 274 from http://olympus.realpython.org/dice\n",
            "Read 19210 from http://www.jython.org\n",
            "Read 274 from http://olympus.realpython.org/dice\n",
            "Read 19210 from http://www.jython.org\n",
            "Read 274 from http://olympus.realpython.org/dice\n",
            "Read 19210 from http://www.jython.org\n",
            "Read 274 from http://olympus.realpython.org/dice\n",
            "Read 19210 from http://www.jython.org\n",
            "Read 274 from http://olympus.realpython.org/dice\n",
            "Read 19210 from http://www.jython.org\n",
            "Read 274 from http://olympus.realpython.org/dice\n",
            "Read 19210 from http://www.jython.org\n",
            "Read 274 from http://olympus.realpython.org/dice\n",
            "Read 19210 from http://www.jython.org\n",
            "Read 274 from http://olympus.realpython.org/dice\n",
            "Read 19210 from http://www.jython.org\n",
            "Read 274 from http://olympus.realpython.org/dice\n",
            "Read 19210 from http://www.jython.org\n",
            "Read 274 from http://olympus.realpython.org/dice\n",
            "Read 19210 from http://www.jython.org\n",
            "Read 274 from http://olympus.realpython.org/dice\n",
            "Read 19210 from http://www.jython.org\n",
            "Read 274 from http://olympus.realpython.org/dice\n",
            "Read 19210 from http://www.jython.org\n",
            "Read 274 from http://olympus.realpython.org/dice\n",
            "Read 19210 from http://www.jython.org\n",
            "Read 274 from http://olympus.realpython.org/dice\n",
            "Read 19210 from http://www.jython.org\n",
            "Read 274 from http://olympus.realpython.org/dice\n",
            "Read 19210 from http://www.jython.org\n",
            "Read 274 from http://olympus.realpython.org/dice\n",
            "Read 19210 from http://www.jython.org\n",
            "Read 274 from http://olympus.realpython.org/dice\n",
            "Read 19210 from http://www.jython.org\n",
            "Read 274 from http://olympus.realpython.org/dice\n",
            "Read 19210 from http://www.jython.org\n",
            "Read 274 from http://olympus.realpython.org/dice\n",
            "Read 19210 from http://www.jython.org\n",
            "Read 274 from http://olympus.realpython.org/dice\n",
            "Read 19210 from http://www.jython.org\n",
            "Read 274 from http://olympus.realpython.org/dice\n",
            "Downloaded 160 in 19.565329551696777 seconds\n"
          ],
          "name": "stdout"
        }
      ]
    },
    {
      "metadata": {
        "id": "s0E1vxBIgc30",
        "colab_type": "text"
      },
      "cell_type": "markdown",
      "source": [
        "**19.5 seconds to download . Yikes!!!!!!**"
      ]
    },
    {
      "metadata": {
        "id": "Te5jjtEfgihL",
        "colab_type": "code",
        "colab": {}
      },
      "cell_type": "code",
      "source": [
        "#threading version\n",
        "import concurrent.futures\n",
        "import threading"
      ],
      "execution_count": 0,
      "outputs": []
    },
    {
      "metadata": {
        "id": "2-JscRqShp9q",
        "colab_type": "code",
        "colab": {}
      },
      "cell_type": "code",
      "source": [
        "thread_local = threading.local()"
      ],
      "execution_count": 0,
      "outputs": []
    },
    {
      "metadata": {
        "id": "_jqNzOO9hsAe",
        "colab_type": "code",
        "colab": {
          "base_uri": "https://localhost:8080/",
          "height": 34
        },
        "outputId": "820a129c-4902-40ad-d1d3-e15735d2dd81"
      },
      "cell_type": "code",
      "source": [
        "thread_local"
      ],
      "execution_count": 10,
      "outputs": [
        {
          "output_type": "execute_result",
          "data": {
            "text/plain": [
              "<_thread._local at 0x7fba57a57410>"
            ]
          },
          "metadata": {
            "tags": []
          },
          "execution_count": 10
        }
      ]
    },
    {
      "metadata": {
        "id": "fETAFkHHh6Ax",
        "colab_type": "code",
        "colab": {}
      },
      "cell_type": "code",
      "source": [
        "def get_session():\n",
        "    if not getattr(thread_local, \"session\", None):\n",
        "        thread_local.session = requests.Session()\n",
        "    return thread_local.session"
      ],
      "execution_count": 0,
      "outputs": []
    },
    {
      "metadata": {
        "id": "jrdWI0Sqh7w4",
        "colab_type": "code",
        "colab": {
          "base_uri": "https://localhost:8080/",
          "height": 408
        },
        "outputId": "25f1b3b2-5294-44c0-aa2a-fc2627a3c6d3"
      },
      "cell_type": "code",
      "source": [
        "for att in dir(thread_local):\n",
        "    print (att, getattr(thread_local,att))"
      ],
      "execution_count": 17,
      "outputs": [
        {
          "output_type": "stream",
          "text": [
            "__class__ <class '_thread._local'>\n",
            "__delattr__ <method-wrapper '__delattr__' of _thread._local object at 0x7fba57a57410>\n",
            "__dir__ <built-in method __dir__ of _thread._local object at 0x7fba57a57410>\n",
            "__doc__ Thread-local data\n",
            "__eq__ <method-wrapper '__eq__' of _thread._local object at 0x7fba57a57410>\n",
            "__format__ <built-in method __format__ of _thread._local object at 0x7fba57a57410>\n",
            "__ge__ <method-wrapper '__ge__' of _thread._local object at 0x7fba57a57410>\n",
            "__getattribute__ <method-wrapper '__getattribute__' of _thread._local object at 0x7fba57a57410>\n",
            "__gt__ <method-wrapper '__gt__' of _thread._local object at 0x7fba57a57410>\n",
            "__hash__ <method-wrapper '__hash__' of _thread._local object at 0x7fba57a57410>\n",
            "__init__ <method-wrapper '__init__' of _thread._local object at 0x7fba57a57410>\n",
            "__init_subclass__ <built-in method __init_subclass__ of type object at 0xa23bc0>\n",
            "__le__ <method-wrapper '__le__' of _thread._local object at 0x7fba57a57410>\n",
            "__lt__ <method-wrapper '__lt__' of _thread._local object at 0x7fba57a57410>\n",
            "__ne__ <method-wrapper '__ne__' of _thread._local object at 0x7fba57a57410>\n",
            "__new__ <built-in method __new__ of type object at 0xa23bc0>\n",
            "__reduce__ <built-in method __reduce__ of _thread._local object at 0x7fba57a57410>\n",
            "__reduce_ex__ <built-in method __reduce_ex__ of _thread._local object at 0x7fba57a57410>\n",
            "__repr__ <method-wrapper '__repr__' of _thread._local object at 0x7fba57a57410>\n",
            "__setattr__ <method-wrapper '__setattr__' of _thread._local object at 0x7fba57a57410>\n",
            "__sizeof__ <built-in method __sizeof__ of _thread._local object at 0x7fba57a57410>\n",
            "__str__ <method-wrapper '__str__' of _thread._local object at 0x7fba57a57410>\n",
            "__subclasshook__ <built-in method __subclasshook__ of type object at 0xa23bc0>\n"
          ],
          "name": "stdout"
        }
      ]
    },
    {
      "metadata": {
        "id": "kfGvP-XHmfYB",
        "colab_type": "code",
        "colab": {
          "base_uri": "https://localhost:8080/",
          "height": 34
        },
        "outputId": "500aecd3-f990-41be-e753-bbbeb10611ec"
      },
      "cell_type": "code",
      "source": [
        "requests.Session()"
      ],
      "execution_count": 19,
      "outputs": [
        {
          "output_type": "execute_result",
          "data": {
            "text/plain": [
              "<requests.sessions.Session at 0x7fba579f6828>"
            ]
          },
          "metadata": {
            "tags": []
          },
          "execution_count": 19
        }
      ]
    },
    {
      "metadata": {
        "id": "NUhh3zuazbDF",
        "colab_type": "code",
        "colab": {}
      },
      "cell_type": "code",
      "source": [
        "def download_site(url):\n",
        "    session = get_session()\n",
        "    with session.get(url) as response:\n",
        "        print(f\"Read {len(response.content)} from {url}\")\n"
      ],
      "execution_count": 0,
      "outputs": []
    },
    {
      "metadata": {
        "id": "ZJJfr8YNzeEx",
        "colab_type": "code",
        "colab": {}
      },
      "cell_type": "code",
      "source": [
        "def download_all_sites(sites,workers):\n",
        "    with concurrent.futures.ThreadPoolExecutor(max_workers=workers) as executor:\n",
        "        executor.map(download_site, sites)"
      ],
      "execution_count": 0,
      "outputs": []
    },
    {
      "metadata": {
        "id": "0X18mbFnzinf",
        "colab_type": "code",
        "colab": {
          "base_uri": "https://localhost:8080/",
          "height": 2774
        },
        "outputId": "9beefe99-4a0e-49ff-c1c7-000abaa94def"
      },
      "cell_type": "code",
      "source": [
        "sites = [\n",
        "        \"http://www.jython.org\",\n",
        "        \"http://olympus.realpython.org/dice\",\n",
        "    ] * 80\n",
        "start_time = time.time()\n",
        "download_all_sites(sites,20)\n",
        "duration = time.time() - start_time\n",
        "print(f\"Downloaded {len(sites)} in {duration} seconds\")"
      ],
      "execution_count": 25,
      "outputs": [
        {
          "output_type": "stream",
          "text": [
            "Read 274 from http://olympus.realpython.org/dice\n",
            "Read 274 from http://olympus.realpython.org/dice\n",
            "Read 274 from http://olympus.realpython.org/dice\n",
            "Read 274 from http://olympus.realpython.org/dice\n",
            "Read 274 from http://olympus.realpython.org/dice\n",
            "Read 274 from http://olympus.realpython.org/diceRead 274 from http://olympus.realpython.org/dice\n",
            "\n",
            "Read 274 from http://olympus.realpython.org/diceRead 274 from http://olympus.realpython.org/diceRead 274 from http://olympus.realpython.org/dice\n",
            "\n",
            "\n",
            "Read 274 from http://olympus.realpython.org/dice\n",
            "Read 274 from http://olympus.realpython.org/dice\n",
            "Read 274 from http://olympus.realpython.org/dice\n",
            "Read 274 from http://olympus.realpython.org/dice\n",
            "Read 274 from http://olympus.realpython.org/dice\n",
            "Read 274 from http://olympus.realpython.org/dice\n",
            "Read 19210 from http://www.jython.org\n",
            "Read 19210 from http://www.jython.org\n",
            "Read 274 from http://olympus.realpython.org/dice\n",
            "Read 19210 from http://www.jython.org\n",
            "Read 274 from http://olympus.realpython.org/dice\n",
            "Read 19210 from http://www.jython.org\n",
            "Read 19210 from http://www.jython.org\n",
            "Read 19210 from http://www.jython.org\n",
            "Read 274 from http://olympus.realpython.org/dice\n",
            "Read 19210 from http://www.jython.org\n",
            "Read 19210 from http://www.jython.org\n",
            "Read 274 from http://olympus.realpython.org/dice\n",
            "Read 19210 from http://www.jython.org\n",
            "Read 19210 from http://www.jython.org\n",
            "Read 274 from http://olympus.realpython.org/dice\n",
            "Read 19210 from http://www.jython.orgRead 274 from http://olympus.realpython.org/dice\n",
            "\n",
            "Read 274 from http://olympus.realpython.org/dice\n",
            "Read 19210 from http://www.jython.orgRead 19210 from http://www.jython.orgRead 274 from http://olympus.realpython.org/dice\n",
            "\n",
            "\n",
            "Read 19210 from http://www.jython.org\n",
            "Read 19210 from http://www.jython.org\n",
            "Read 19210 from http://www.jython.org\n",
            "Read 274 from http://olympus.realpython.org/dice\n",
            "Read 19210 from http://www.jython.org\n",
            "Read 274 from http://olympus.realpython.org/diceRead 274 from http://olympus.realpython.org/dice\n",
            "\n",
            "Read 19210 from http://www.jython.orgRead 19210 from http://www.jython.org\n",
            "\n",
            "Read 19210 from http://www.jython.org\n",
            "Read 19210 from http://www.jython.orgRead 19210 from http://www.jython.orgRead 274 from http://olympus.realpython.org/diceRead 274 from http://olympus.realpython.org/diceRead 19210 from http://www.jython.org\n",
            "\n",
            "\n",
            "\n",
            "\n",
            "Read 19210 from http://www.jython.org\n",
            "Read 274 from http://olympus.realpython.org/dice\n",
            "Read 274 from http://olympus.realpython.org/diceRead 19210 from http://www.jython.org\n",
            "\n",
            "Read 19210 from http://www.jython.orgRead 274 from http://olympus.realpython.org/dice\n",
            "\n",
            "Read 274 from http://olympus.realpython.org/diceRead 274 from http://olympus.realpython.org/diceRead 274 from http://olympus.realpython.org/dice\n",
            "\n",
            "\n",
            "Read 19210 from http://www.jython.orgRead 19210 from http://www.jython.orgRead 19210 from http://www.jython.org\n",
            "\n",
            "\n",
            "Read 19210 from http://www.jython.orgRead 274 from http://olympus.realpython.org/diceRead 274 from http://olympus.realpython.org/dice\n",
            "\n",
            "\n",
            "Read 274 from http://olympus.realpython.org/diceRead 274 from http://olympus.realpython.org/diceRead 19210 from http://www.jython.orgRead 19210 from http://www.jython.org\n",
            "\n",
            "\n",
            "\n",
            "Read 19210 from http://www.jython.orgRead 274 from http://olympus.realpython.org/dice\n",
            "\n",
            "Read 274 from http://olympus.realpython.org/diceRead 274 from http://olympus.realpython.org/diceRead 19210 from http://www.jython.orgRead 19210 from http://www.jython.orgRead 274 from http://olympus.realpython.org/diceRead 19210 from http://www.jython.orgRead 19210 from http://www.jython.orgRead 19210 from http://www.jython.org\n",
            "\n",
            "\n",
            "\n",
            "\n",
            "\n",
            "\n",
            "\n",
            "Read 274 from http://olympus.realpython.org/diceRead 274 from http://olympus.realpython.org/diceRead 19210 from http://www.jython.org\n",
            "\n",
            "\n",
            "Read 274 from http://olympus.realpython.org/dice\n",
            "Read 19210 from http://www.jython.org\n",
            "Read 19210 from http://www.jython.orgRead 19210 from http://www.jython.orgRead 274 from http://olympus.realpython.org/diceRead 19210 from http://www.jython.org\n",
            "\n",
            "\n",
            "\n",
            "Read 274 from http://olympus.realpython.org/dice\n",
            "Read 19210 from http://www.jython.org\n",
            "Read 19210 from http://www.jython.org\n",
            "Read 274 from http://olympus.realpython.org/dice\n",
            "Read 274 from http://olympus.realpython.org/dice\n",
            "Read 19210 from http://www.jython.org\n",
            "Read 274 from http://olympus.realpython.org/diceRead 274 from http://olympus.realpython.org/dice\n",
            "\n",
            "Read 19210 from http://www.jython.orgRead 274 from http://olympus.realpython.org/diceRead 19210 from http://www.jython.org\n",
            "\n",
            "\n",
            "Read 274 from http://olympus.realpython.org/dice\n",
            "Read 19210 from http://www.jython.orgRead 274 from http://olympus.realpython.org/dice\n",
            "\n",
            "Read 19210 from http://www.jython.orgRead 274 from http://olympus.realpython.org/dice\n",
            "\n",
            "Read 19210 from http://www.jython.org\n",
            "Read 19210 from http://www.jython.org\n",
            "Read 274 from http://olympus.realpython.org/dice\n",
            "Read 274 from http://olympus.realpython.org/diceRead 19210 from http://www.jython.org\n",
            "\n",
            "Read 19210 from http://www.jython.org\n",
            "Read 274 from http://olympus.realpython.org/dice\n",
            "Read 274 from http://olympus.realpython.org/dice\n",
            "Read 19210 from http://www.jython.orgRead 19210 from http://www.jython.orgRead 274 from http://olympus.realpython.org/diceRead 274 from http://olympus.realpython.org/dice\n",
            "\n",
            "\n",
            "\n",
            "Read 19210 from http://www.jython.org\n",
            "Read 274 from http://olympus.realpython.org/diceRead 19210 from http://www.jython.orgRead 274 from http://olympus.realpython.org/dice\n",
            "\n",
            "\n",
            "Read 19210 from http://www.jython.orgRead 274 from http://olympus.realpython.org/diceRead 19210 from http://www.jython.orgRead 274 from http://olympus.realpython.org/dice\n",
            "\n",
            "\n",
            "\n",
            "Read 274 from http://olympus.realpython.org/diceRead 19210 from http://www.jython.orgRead 19210 from http://www.jython.org\n",
            "\n",
            "\n",
            "Read 274 from http://olympus.realpython.org/diceRead 19210 from http://www.jython.org\n",
            "\n",
            "Read 274 from http://olympus.realpython.org/dice\n",
            "Read 19210 from http://www.jython.org\n",
            "Read 274 from http://olympus.realpython.org/dice\n",
            "Read 19210 from http://www.jython.orgRead 274 from http://olympus.realpython.org/dice\n",
            "\n",
            "Read 274 from http://olympus.realpython.org/diceRead 274 from http://olympus.realpython.org/diceRead 274 from http://olympus.realpython.org/diceRead 19210 from http://www.jython.org\n",
            "\n",
            "\n",
            "\n",
            "Read 19210 from http://www.jython.org\n",
            "Read 19210 from http://www.jython.org\n",
            "Read 274 from http://olympus.realpython.org/dice\n",
            "Read 19210 from http://www.jython.orgRead 274 from http://olympus.realpython.org/diceRead 19210 from http://www.jython.orgRead 274 from http://olympus.realpython.org/dice\n",
            "\n",
            "\n",
            "\n",
            "Read 19210 from http://www.jython.orgRead 274 from http://olympus.realpython.org/diceRead 19210 from http://www.jython.org\n",
            "\n",
            "\n",
            "Read 19210 from http://www.jython.org\n",
            "Read 274 from http://olympus.realpython.org/dice\n",
            "Read 274 from http://olympus.realpython.org/dice\n",
            "Read 19210 from http://www.jython.orgRead 19210 from http://www.jython.org\n",
            "\n",
            "Read 19210 from http://www.jython.org\n",
            "Read 19210 from http://www.jython.org\n",
            "Read 19210 from http://www.jython.org\n",
            "Read 19210 from http://www.jython.orgRead 19210 from http://www.jython.orgDownloaded 160 in 1.5343704223632812 seconds\n",
            "\n",
            "\n"
          ],
          "name": "stdout"
        }
      ]
    },
    {
      "metadata": {
        "id": "qZKgqFsL1nIy",
        "colab_type": "code",
        "colab": {
          "base_uri": "https://localhost:8080/",
          "height": 445
        },
        "outputId": "11380849-55f4-490a-c356-a10172d4c0d5"
      },
      "cell_type": "code",
      "source": [
        "!pip install aiohttp"
      ],
      "execution_count": 27,
      "outputs": [
        {
          "output_type": "stream",
          "text": [
            "Collecting aiohttp\n",
            "\u001b[?25l  Downloading https://files.pythonhosted.org/packages/0d/5c/f87987f4dc8b2cfcf37c83a814ea4b2aff4d285cbffc0ab08b2b4fa3f584/aiohttp-3.5.4-cp36-cp36m-manylinux1_x86_64.whl (1.2MB)\n",
            "\u001b[K    100% |████████████████████████████████| 1.2MB 15.0MB/s \n",
            "\u001b[?25hCollecting idna-ssl>=1.0; python_version < \"3.7\" (from aiohttp)\n",
            "  Downloading https://files.pythonhosted.org/packages/46/03/07c4894aae38b0de52b52586b24bf189bb83e4ddabfe2e2c8f2419eec6f4/idna-ssl-1.1.0.tar.gz\n",
            "Requirement already satisfied: chardet<4.0,>=2.0 in /usr/local/lib/python3.6/dist-packages (from aiohttp) (3.0.4)\n",
            "Collecting typing-extensions>=3.6.5; python_version < \"3.7\" (from aiohttp)\n",
            "  Downloading https://files.pythonhosted.org/packages/0f/62/c66e553258c37c33f9939abb2dd8d2481803d860ff68e635466f12aa7efa/typing_extensions-3.7.2-py3-none-any.whl\n",
            "Collecting multidict<5.0,>=4.0 (from aiohttp)\n",
            "\u001b[?25l  Downloading https://files.pythonhosted.org/packages/71/cc/ceb5b8c76e7a23212b9e0353053cc35a9d86c763d852a76d9b941fe81fbc/multidict-4.5.2-cp36-cp36m-manylinux1_x86_64.whl (309kB)\n",
            "\u001b[K    100% |████████████████████████████████| 317kB 29.4MB/s \n",
            "\u001b[?25hRequirement already satisfied: attrs>=17.3.0 in /usr/local/lib/python3.6/dist-packages (from aiohttp) (19.1.0)\n",
            "Collecting async-timeout<4.0,>=3.0 (from aiohttp)\n",
            "  Downloading https://files.pythonhosted.org/packages/e1/1e/5a4441be21b0726c4464f3f23c8b19628372f606755a9d2e46c187e65ec4/async_timeout-3.0.1-py3-none-any.whl\n",
            "Collecting yarl<2.0,>=1.0 (from aiohttp)\n",
            "\u001b[?25l  Downloading https://files.pythonhosted.org/packages/fa/c0/9a73968a9f4e4dac8dffb0ba35f932dd7798fe97901f4942c2d38667862c/yarl-1.3.0-cp36-cp36m-manylinux1_x86_64.whl (251kB)\n",
            "\u001b[K    100% |████████████████████████████████| 256kB 31.3MB/s \n",
            "\u001b[?25hRequirement already satisfied: idna>=2.0 in /usr/local/lib/python3.6/dist-packages (from idna-ssl>=1.0; python_version < \"3.7\"->aiohttp) (2.6)\n",
            "Building wheels for collected packages: idna-ssl\n",
            "  Building wheel for idna-ssl (setup.py) ... \u001b[?25ldone\n",
            "\u001b[?25h  Stored in directory: /root/.cache/pip/wheels/d3/00/b3/32d613e19e08a739751dd6bf998cfed277728f8b2127ad4eb7\n",
            "Successfully built idna-ssl\n",
            "Installing collected packages: idna-ssl, typing-extensions, multidict, async-timeout, yarl, aiohttp\n",
            "Successfully installed aiohttp-3.5.4 async-timeout-3.0.1 idna-ssl-1.1.0 multidict-4.5.2 typing-extensions-3.7.2 yarl-1.3.0\n"
          ],
          "name": "stdout"
        }
      ]
    },
    {
      "metadata": {
        "id": "qTIVDY3s1g57",
        "colab_type": "code",
        "colab": {}
      },
      "cell_type": "code",
      "source": [
        "#Asyncio version\n",
        "import asyncio\n",
        "import time\n",
        "import aiohttp"
      ],
      "execution_count": 0,
      "outputs": []
    },
    {
      "metadata": {
        "id": "pykvgbpX2fkJ",
        "colab_type": "code",
        "colab": {}
      },
      "cell_type": "code",
      "source": [
        "async def download_site(session, url):\n",
        "    async with session.get(url) as response:\n",
        "        print(\"Read {0} from {1}\".format(response.content_length, url))"
      ],
      "execution_count": 0,
      "outputs": []
    },
    {
      "metadata": {
        "id": "4T1-6auF2ngY",
        "colab_type": "code",
        "colab": {}
      },
      "cell_type": "code",
      "source": [
        "async def download_all_sites(sites):\n",
        "    async with aiohttp.ClientSession() as session:\n",
        "        tasks = []\n",
        "        for url in sites:\n",
        "            task = asyncio.ensure_future(download_site(session, url))\n",
        "            tasks.append(task)\n",
        "        await asyncio.gather(*tasks, return_exceptions=True)"
      ],
      "execution_count": 0,
      "outputs": []
    },
    {
      "metadata": {
        "id": "3wqTsMne2rH3",
        "colab_type": "code",
        "colab": {
          "base_uri": "https://localhost:8080/",
          "height": 2754
        },
        "outputId": "4865d46d-498d-4add-ef9c-10c930e1e28c"
      },
      "cell_type": "code",
      "source": [
        "sites = [\n",
        "        \"http://www.jython.org\",\n",
        "        \"http://olympus.realpython.org/dice\",\n",
        "    ] * 80\n",
        "start_time = time.time()\n",
        "asyncio.get_event_loop().run_until_complete(download_all_sites(sites))\n",
        "duration = time.time() - start_time\n",
        "print(f\"Downloaded {len(sites)} sites in {duration} seconds\")"
      ],
      "execution_count": 31,
      "outputs": [
        {
          "output_type": "stream",
          "text": [
            "Read 274 from http://olympus.realpython.org/dice\n",
            "Read 274 from http://olympus.realpython.org/dice\n",
            "Read 274 from http://olympus.realpython.org/dice\n",
            "Read 274 from http://olympus.realpython.org/dice\n",
            "Read 274 from http://olympus.realpython.org/dice\n",
            "Read 274 from http://olympus.realpython.org/dice\n",
            "Read 274 from http://olympus.realpython.org/dice\n",
            "Read 274 from http://olympus.realpython.org/dice\n",
            "Read 274 from http://olympus.realpython.org/dice\n",
            "Read 274 from http://olympus.realpython.org/dice\n",
            "Read 274 from http://olympus.realpython.org/dice\n",
            "Read 274 from http://olympus.realpython.org/dice\n",
            "Read 274 from http://olympus.realpython.org/dice\n",
            "Read 274 from http://olympus.realpython.org/dice\n",
            "Read 274 from http://olympus.realpython.org/dice\n",
            "Read 274 from http://olympus.realpython.org/dice\n",
            "Read 274 from http://olympus.realpython.org/dice\n",
            "Read 274 from http://olympus.realpython.org/dice\n",
            "Read 274 from http://olympus.realpython.org/dice\n",
            "Read 274 from http://olympus.realpython.org/dice\n",
            "Read 274 from http://olympus.realpython.org/dice\n",
            "Read 274 from http://olympus.realpython.org/dice\n",
            "Read 274 from http://olympus.realpython.org/dice\n",
            "Read 274 from http://olympus.realpython.org/dice\n",
            "Read 274 from http://olympus.realpython.org/dice\n",
            "Read 274 from http://olympus.realpython.org/dice\n",
            "Read 274 from http://olympus.realpython.org/dice\n",
            "Read 274 from http://olympus.realpython.org/dice\n",
            "Read 274 from http://olympus.realpython.org/dice\n",
            "Read 274 from http://olympus.realpython.org/dice\n",
            "Read 274 from http://olympus.realpython.org/dice\n",
            "Read 274 from http://olympus.realpython.org/dice\n",
            "Read 274 from http://olympus.realpython.org/dice\n",
            "Read 274 from http://olympus.realpython.org/dice\n",
            "Read 274 from http://olympus.realpython.org/dice\n",
            "Read 274 from http://olympus.realpython.org/dice\n",
            "Read 274 from http://olympus.realpython.org/dice\n",
            "Read 274 from http://olympus.realpython.org/dice\n",
            "Read 274 from http://olympus.realpython.org/dice\n",
            "Read 274 from http://olympus.realpython.org/dice\n",
            "Read 274 from http://olympus.realpython.org/dice\n",
            "Read 274 from http://olympus.realpython.org/dice\n",
            "Read 274 from http://olympus.realpython.org/dice\n",
            "Read 274 from http://olympus.realpython.org/dice\n",
            "Read 274 from http://olympus.realpython.org/dice\n",
            "Read 274 from http://olympus.realpython.org/dice\n",
            "Read 274 from http://olympus.realpython.org/dice\n",
            "Read 274 from http://olympus.realpython.org/dice\n",
            "Read 274 from http://olympus.realpython.org/dice\n",
            "Read 274 from http://olympus.realpython.org/dice\n",
            "Read 274 from http://olympus.realpython.org/dice\n",
            "Read 274 from http://olympus.realpython.org/dice\n",
            "Read 274 from http://olympus.realpython.org/dice\n",
            "Read 274 from http://olympus.realpython.org/dice\n",
            "Read 274 from http://olympus.realpython.org/dice\n",
            "Read 274 from http://olympus.realpython.org/dice\n",
            "Read 274 from http://olympus.realpython.org/dice\n",
            "Read 274 from http://olympus.realpython.org/dice\n",
            "Read 274 from http://olympus.realpython.org/dice\n",
            "Read 274 from http://olympus.realpython.org/dice\n",
            "Read 274 from http://olympus.realpython.org/dice\n",
            "Read 274 from http://olympus.realpython.org/dice\n",
            "Read 274 from http://olympus.realpython.org/dice\n",
            "Read 274 from http://olympus.realpython.org/dice\n",
            "Read 274 from http://olympus.realpython.org/dice\n",
            "Read 274 from http://olympus.realpython.org/dice\n",
            "Read 274 from http://olympus.realpython.org/dice\n",
            "Read 274 from http://olympus.realpython.org/dice\n",
            "Read 274 from http://olympus.realpython.org/dice\n",
            "Read 274 from http://olympus.realpython.org/dice\n",
            "Read 274 from http://olympus.realpython.org/dice\n",
            "Read 274 from http://olympus.realpython.org/dice\n",
            "Read 274 from http://olympus.realpython.org/dice\n",
            "Read 274 from http://olympus.realpython.org/dice\n",
            "Read 274 from http://olympus.realpython.org/dice\n",
            "Read 274 from http://olympus.realpython.org/dice\n",
            "Read 274 from http://olympus.realpython.org/dice\n",
            "Read 274 from http://olympus.realpython.org/dice\n",
            "Read 274 from http://olympus.realpython.org/dice\n",
            "Read 274 from http://olympus.realpython.org/dice\n",
            "Read 19210 from http://www.jython.org\n",
            "Read 19210 from http://www.jython.org\n",
            "Read 19210 from http://www.jython.org\n",
            "Read 19210 from http://www.jython.org\n",
            "Read 19210 from http://www.jython.org\n",
            "Read 19210 from http://www.jython.org\n",
            "Read 19210 from http://www.jython.org\n",
            "Read 19210 from http://www.jython.org\n",
            "Read 19210 from http://www.jython.org\n",
            "Read 19210 from http://www.jython.org\n",
            "Read 19210 from http://www.jython.org\n",
            "Read 19210 from http://www.jython.org\n",
            "Read 19210 from http://www.jython.org\n",
            "Read 19210 from http://www.jython.org\n",
            "Read 19210 from http://www.jython.org\n",
            "Read 19210 from http://www.jython.org\n",
            "Read 19210 from http://www.jython.org\n",
            "Read 19210 from http://www.jython.org\n",
            "Read 19210 from http://www.jython.org\n",
            "Read 19210 from http://www.jython.org\n",
            "Read 19210 from http://www.jython.org\n",
            "Read 19210 from http://www.jython.org\n",
            "Read 19210 from http://www.jython.org\n",
            "Read 19210 from http://www.jython.org\n",
            "Read 19210 from http://www.jython.org\n",
            "Read 19210 from http://www.jython.org\n",
            "Read 19210 from http://www.jython.org\n",
            "Read 19210 from http://www.jython.org\n",
            "Read 19210 from http://www.jython.org\n",
            "Read 19210 from http://www.jython.org\n",
            "Read 19210 from http://www.jython.org\n",
            "Read 19210 from http://www.jython.org\n",
            "Read 19210 from http://www.jython.org\n",
            "Read 19210 from http://www.jython.org\n",
            "Read 19210 from http://www.jython.org\n",
            "Read 19210 from http://www.jython.org\n",
            "Read 19210 from http://www.jython.org\n",
            "Read 19210 from http://www.jython.org\n",
            "Read 19210 from http://www.jython.org\n",
            "Read 19210 from http://www.jython.org\n",
            "Read 19210 from http://www.jython.org\n",
            "Read 19210 from http://www.jython.org\n",
            "Read 19210 from http://www.jython.org\n",
            "Read 19210 from http://www.jython.org\n",
            "Read 19210 from http://www.jython.org\n",
            "Read 19210 from http://www.jython.org\n",
            "Read 19210 from http://www.jython.org\n",
            "Read 19210 from http://www.jython.org\n",
            "Read 19210 from http://www.jython.org\n",
            "Read 19210 from http://www.jython.org\n",
            "Read 19210 from http://www.jython.org\n",
            "Read 19210 from http://www.jython.org\n",
            "Read 19210 from http://www.jython.org\n",
            "Read 19210 from http://www.jython.org\n",
            "Read 19210 from http://www.jython.org\n",
            "Read 19210 from http://www.jython.org\n",
            "Read 19210 from http://www.jython.org\n",
            "Read 19210 from http://www.jython.org\n",
            "Read 19210 from http://www.jython.org\n",
            "Read 19210 from http://www.jython.org\n",
            "Read 19210 from http://www.jython.org\n",
            "Read 19210 from http://www.jython.org\n",
            "Read 19210 from http://www.jython.org\n",
            "Read 19210 from http://www.jython.org\n",
            "Read 19210 from http://www.jython.org\n",
            "Read 19210 from http://www.jython.org\n",
            "Read 19210 from http://www.jython.org\n",
            "Read 19210 from http://www.jython.org\n",
            "Read 19210 from http://www.jython.org\n",
            "Read 19210 from http://www.jython.org\n",
            "Read 19210 from http://www.jython.org\n",
            "Read 19210 from http://www.jython.org\n",
            "Read 19210 from http://www.jython.org\n",
            "Read 19210 from http://www.jython.org\n",
            "Read 19210 from http://www.jython.org\n",
            "Read 19210 from http://www.jython.org\n",
            "Read 19210 from http://www.jython.org\n",
            "Read 19210 from http://www.jython.org\n",
            "Read 19210 from http://www.jython.org\n",
            "Read 19210 from http://www.jython.org\n",
            "Downloaded 160 sites in 0.8244457244873047 seconds\n"
          ],
          "name": "stdout"
        }
      ]
    },
    {
      "metadata": {
        "id": "WLNc-WOA9zAM",
        "colab_type": "code",
        "colab": {}
      },
      "cell_type": "code",
      "source": [
        "session = None"
      ],
      "execution_count": 0,
      "outputs": []
    },
    {
      "metadata": {
        "id": "ZnzN8hrn-HR2",
        "colab_type": "code",
        "colab": {}
      },
      "cell_type": "code",
      "source": [
        "#multiprocessing\n",
        "import requests\n",
        "import multiprocessing\n",
        "import time"
      ],
      "execution_count": 0,
      "outputs": []
    },
    {
      "metadata": {
        "id": "cNAPzdOZ-KGm",
        "colab_type": "code",
        "colab": {
          "base_uri": "https://localhost:8080/",
          "height": 34
        },
        "outputId": "bb25a189-5758-4b20-c2ec-a8e3ab9c8119"
      },
      "cell_type": "code",
      "source": [
        "multiprocessing.Pool()"
      ],
      "execution_count": 34,
      "outputs": [
        {
          "output_type": "execute_result",
          "data": {
            "text/plain": [
              "<multiprocessing.pool.Pool at 0x7fba559286d8>"
            ]
          },
          "metadata": {
            "tags": []
          },
          "execution_count": 34
        }
      ]
    },
    {
      "metadata": {
        "id": "wHKeFgtT-Q4g",
        "colab_type": "code",
        "colab": {}
      },
      "cell_type": "code",
      "source": [
        "def set_global_session():\n",
        "    global session\n",
        "    if not session:\n",
        "        session = requests.Session()"
      ],
      "execution_count": 0,
      "outputs": []
    },
    {
      "metadata": {
        "id": "qUQyGUAi-UBZ",
        "colab_type": "code",
        "colab": {}
      },
      "cell_type": "code",
      "source": [
        "def download_site(url):\n",
        "    with session.get(url) as response:\n",
        "        name = multiprocessing.current_process().name\n",
        "        print(f\"{name}:Read {len(response.content)} from {url}\")"
      ],
      "execution_count": 0,
      "outputs": []
    },
    {
      "metadata": {
        "id": "AJzTcMif-dWr",
        "colab_type": "code",
        "colab": {}
      },
      "cell_type": "code",
      "source": [
        "def download_all_sites(sites):\n",
        "    with multiprocessing.Pool(initializer=set_global_session) as pool:\n",
        "        pool.map(download_site, sites)"
      ],
      "execution_count": 0,
      "outputs": []
    },
    {
      "metadata": {
        "id": "hWQYKG-6-sWF",
        "colab_type": "code",
        "colab": {
          "base_uri": "https://localhost:8080/",
          "height": 2754
        },
        "outputId": "48b69ca7-ec39-451b-d509-47a7b3a81dd1"
      },
      "cell_type": "code",
      "source": [
        "start_time = time.time()\n",
        "download_all_sites(sites)\n",
        "duration = time.time() - start_time\n",
        "print(f\"Downloaded {len(sites)} in {duration} seconds\")"
      ],
      "execution_count": 38,
      "outputs": [
        {
          "output_type": "stream",
          "text": [
            "ForkPoolWorker-3:Read 19210 from http://www.jython.org\n",
            "ForkPoolWorker-4:Read 19210 from http://www.jython.org\n",
            "ForkPoolWorker-3:Read 274 from http://olympus.realpython.org/dice\n",
            "ForkPoolWorker-4:Read 274 from http://olympus.realpython.org/dice\n",
            "ForkPoolWorker-3:Read 19210 from http://www.jython.org\n",
            "ForkPoolWorker-3:Read 274 from http://olympus.realpython.org/dice\n",
            "ForkPoolWorker-4:Read 19210 from http://www.jython.org\n",
            "ForkPoolWorker-3:Read 19210 from http://www.jython.org\n",
            "ForkPoolWorker-4:Read 274 from http://olympus.realpython.org/dice\n",
            "ForkPoolWorker-3:Read 274 from http://olympus.realpython.org/dice\n",
            "ForkPoolWorker-3:Read 19210 from http://www.jython.org\n",
            "ForkPoolWorker-4:Read 19210 from http://www.jython.org\n",
            "ForkPoolWorker-3:Read 274 from http://olympus.realpython.org/dice\n",
            "ForkPoolWorker-4:Read 274 from http://olympus.realpython.org/dice\n",
            "ForkPoolWorker-3:Read 19210 from http://www.jython.org\n",
            "ForkPoolWorker-3:Read 274 from http://olympus.realpython.org/dice\n",
            "ForkPoolWorker-4:Read 19210 from http://www.jython.org\n",
            "ForkPoolWorker-4:Read 274 from http://olympus.realpython.org/dice\n",
            "ForkPoolWorker-3:Read 19210 from http://www.jython.org\n",
            "ForkPoolWorker-3:Read 274 from http://olympus.realpython.org/dice\n",
            "ForkPoolWorker-4:Read 19210 from http://www.jython.org\n",
            "ForkPoolWorker-3:Read 19210 from http://www.jython.org\n",
            "ForkPoolWorker-4:Read 274 from http://olympus.realpython.org/dice\n",
            "ForkPoolWorker-3:Read 274 from http://olympus.realpython.org/dice\n",
            "ForkPoolWorker-3:Read 19210 from http://www.jython.org\n",
            "ForkPoolWorker-4:Read 19210 from http://www.jython.org\n",
            "ForkPoolWorker-3:Read 274 from http://olympus.realpython.org/dice\n",
            "ForkPoolWorker-4:Read 274 from http://olympus.realpython.org/dice\n",
            "ForkPoolWorker-3:Read 19210 from http://www.jython.org\n",
            "ForkPoolWorker-3:Read 274 from http://olympus.realpython.org/dice\n",
            "ForkPoolWorker-4:Read 19210 from http://www.jython.org\n",
            "ForkPoolWorker-3:Read 19210 from http://www.jython.org\n",
            "ForkPoolWorker-4:Read 274 from http://olympus.realpython.org/dice\n",
            "ForkPoolWorker-3:Read 274 from http://olympus.realpython.org/dice\n",
            "ForkPoolWorker-4:Read 19210 from http://www.jython.org\n",
            "ForkPoolWorker-3:Read 19210 from http://www.jython.org\n",
            "ForkPoolWorker-4:Read 274 from http://olympus.realpython.org/dice\n",
            "ForkPoolWorker-3:Read 274 from http://olympus.realpython.org/dice\n",
            "ForkPoolWorker-3:Read 19210 from http://www.jython.org\n",
            "ForkPoolWorker-4:Read 19210 from http://www.jython.org\n",
            "ForkPoolWorker-3:Read 274 from http://olympus.realpython.org/dice\n",
            "ForkPoolWorker-4:Read 274 from http://olympus.realpython.org/dice\n",
            "ForkPoolWorker-3:Read 19210 from http://www.jython.org\n",
            "ForkPoolWorker-3:Read 274 from http://olympus.realpython.org/dice\n",
            "ForkPoolWorker-4:Read 19210 from http://www.jython.org\n",
            "ForkPoolWorker-3:Read 19210 from http://www.jython.org\n",
            "ForkPoolWorker-4:Read 274 from http://olympus.realpython.org/dice\n",
            "ForkPoolWorker-3:Read 274 from http://olympus.realpython.org/dice\n",
            "ForkPoolWorker-4:Read 19210 from http://www.jython.org\n",
            "ForkPoolWorker-3:Read 19210 from http://www.jython.org\n",
            "ForkPoolWorker-4:Read 274 from http://olympus.realpython.org/dice\n",
            "ForkPoolWorker-3:Read 274 from http://olympus.realpython.org/dice\n",
            "ForkPoolWorker-3:Read 19210 from http://www.jython.org\n",
            "ForkPoolWorker-4:Read 19210 from http://www.jython.org\n",
            "ForkPoolWorker-3:Read 274 from http://olympus.realpython.org/dice\n",
            "ForkPoolWorker-4:Read 274 from http://olympus.realpython.org/dice\n",
            "ForkPoolWorker-3:Read 19210 from http://www.jython.org\n",
            "ForkPoolWorker-3:Read 274 from http://olympus.realpython.org/dice\n",
            "ForkPoolWorker-4:Read 19210 from http://www.jython.org\n",
            "ForkPoolWorker-3:Read 19210 from http://www.jython.org\n",
            "ForkPoolWorker-4:Read 274 from http://olympus.realpython.org/dice\n",
            "ForkPoolWorker-3:Read 274 from http://olympus.realpython.org/dice\n",
            "ForkPoolWorker-4:Read 19210 from http://www.jython.org\n",
            "ForkPoolWorker-3:Read 19210 from http://www.jython.org\n",
            "ForkPoolWorker-4:Read 274 from http://olympus.realpython.org/dice\n",
            "ForkPoolWorker-3:Read 274 from http://olympus.realpython.org/dice\n",
            "ForkPoolWorker-3:Read 19210 from http://www.jython.org\n",
            "ForkPoolWorker-4:Read 19210 from http://www.jython.org\n",
            "ForkPoolWorker-3:Read 274 from http://olympus.realpython.org/dice\n",
            "ForkPoolWorker-4:Read 274 from http://olympus.realpython.org/dice\n",
            "ForkPoolWorker-3:Read 19210 from http://www.jython.org\n",
            "ForkPoolWorker-3:Read 274 from http://olympus.realpython.org/dice\n",
            "ForkPoolWorker-4:Read 19210 from http://www.jython.org\n",
            "ForkPoolWorker-3:Read 19210 from http://www.jython.org\n",
            "ForkPoolWorker-4:Read 274 from http://olympus.realpython.org/dice\n",
            "ForkPoolWorker-3:Read 274 from http://olympus.realpython.org/dice\n",
            "ForkPoolWorker-4:Read 19210 from http://www.jython.org\n",
            "ForkPoolWorker-3:Read 19210 from http://www.jython.org\n",
            "ForkPoolWorker-3:Read 274 from http://olympus.realpython.org/dice\n",
            "ForkPoolWorker-4:Read 274 from http://olympus.realpython.org/dice\n",
            "ForkPoolWorker-3:Read 19210 from http://www.jython.org\n",
            "ForkPoolWorker-4:Read 19210 from http://www.jython.org\n",
            "ForkPoolWorker-3:Read 274 from http://olympus.realpython.org/dice\n",
            "ForkPoolWorker-4:Read 274 from http://olympus.realpython.org/dice\n",
            "ForkPoolWorker-3:Read 19210 from http://www.jython.org\n",
            "ForkPoolWorker-3:Read 274 from http://olympus.realpython.org/dice\n",
            "ForkPoolWorker-4:Read 19210 from http://www.jython.org\n",
            "ForkPoolWorker-3:Read 19210 from http://www.jython.org\n",
            "ForkPoolWorker-4:Read 274 from http://olympus.realpython.org/dice\n",
            "ForkPoolWorker-3:Read 274 from http://olympus.realpython.org/dice\n",
            "ForkPoolWorker-4:Read 19210 from http://www.jython.org\n",
            "ForkPoolWorker-3:Read 19210 from http://www.jython.org\n",
            "ForkPoolWorker-4:Read 274 from http://olympus.realpython.org/dice\n",
            "ForkPoolWorker-3:Read 274 from http://olympus.realpython.org/dice\n",
            "ForkPoolWorker-3:Read 19210 from http://www.jython.org\n",
            "ForkPoolWorker-4:Read 19210 from http://www.jython.org\n",
            "ForkPoolWorker-3:Read 274 from http://olympus.realpython.org/dice\n",
            "ForkPoolWorker-4:Read 274 from http://olympus.realpython.org/dice\n",
            "ForkPoolWorker-3:Read 19210 from http://www.jython.org\n",
            "ForkPoolWorker-3:Read 274 from http://olympus.realpython.org/dice\n",
            "ForkPoolWorker-4:Read 19210 from http://www.jython.org\n",
            "ForkPoolWorker-3:Read 19210 from http://www.jython.org\n",
            "ForkPoolWorker-4:Read 274 from http://olympus.realpython.org/dice\n",
            "ForkPoolWorker-3:Read 274 from http://olympus.realpython.org/dice\n",
            "ForkPoolWorker-3:Read 19210 from http://www.jython.org\n",
            "ForkPoolWorker-4:Read 19210 from http://www.jython.org\n",
            "ForkPoolWorker-3:Read 274 from http://olympus.realpython.org/dice\n",
            "ForkPoolWorker-4:Read 274 from http://olympus.realpython.org/dice\n",
            "ForkPoolWorker-3:Read 19210 from http://www.jython.org\n",
            "ForkPoolWorker-4:Read 19210 from http://www.jython.org\n",
            "ForkPoolWorker-3:Read 274 from http://olympus.realpython.org/dice\n",
            "ForkPoolWorker-4:Read 274 from http://olympus.realpython.org/dice\n",
            "ForkPoolWorker-3:Read 19210 from http://www.jython.org\n",
            "ForkPoolWorker-3:Read 274 from http://olympus.realpython.org/dice\n",
            "ForkPoolWorker-4:Read 19210 from http://www.jython.org\n",
            "ForkPoolWorker-3:Read 19210 from http://www.jython.org\n",
            "ForkPoolWorker-4:Read 274 from http://olympus.realpython.org/dice\n",
            "ForkPoolWorker-3:Read 274 from http://olympus.realpython.org/dice\n",
            "ForkPoolWorker-3:Read 19210 from http://www.jython.org\n",
            "ForkPoolWorker-4:Read 19210 from http://www.jython.org\n",
            "ForkPoolWorker-3:Read 274 from http://olympus.realpython.org/dice\n",
            "ForkPoolWorker-4:Read 274 from http://olympus.realpython.org/dice\n",
            "ForkPoolWorker-3:Read 19210 from http://www.jython.org\n",
            "ForkPoolWorker-3:Read 274 from http://olympus.realpython.org/dice\n",
            "ForkPoolWorker-4:Read 19210 from http://www.jython.org\n",
            "ForkPoolWorker-4:Read 274 from http://olympus.realpython.org/dice\n",
            "ForkPoolWorker-3:Read 19210 from http://www.jython.org\n",
            "ForkPoolWorker-3:Read 274 from http://olympus.realpython.org/dice\n",
            "ForkPoolWorker-4:Read 19210 from http://www.jython.org\n",
            "ForkPoolWorker-3:Read 19210 from http://www.jython.org\n",
            "ForkPoolWorker-4:Read 274 from http://olympus.realpython.org/dice\n",
            "ForkPoolWorker-3:Read 274 from http://olympus.realpython.org/dice\n",
            "ForkPoolWorker-3:Read 19210 from http://www.jython.org\n",
            "ForkPoolWorker-4:Read 19210 from http://www.jython.org\n",
            "ForkPoolWorker-3:Read 274 from http://olympus.realpython.org/dice\n",
            "ForkPoolWorker-4:Read 274 from http://olympus.realpython.org/dice\n",
            "ForkPoolWorker-3:Read 19210 from http://www.jython.org\n",
            "ForkPoolWorker-3:Read 274 from http://olympus.realpython.org/dice\n",
            "ForkPoolWorker-4:Read 19210 from http://www.jython.org\n",
            "ForkPoolWorker-3:Read 19210 from http://www.jython.org\n",
            "ForkPoolWorker-4:Read 274 from http://olympus.realpython.org/dice\n",
            "ForkPoolWorker-3:Read 274 from http://olympus.realpython.org/dice\n",
            "ForkPoolWorker-3:Read 19210 from http://www.jython.org\n",
            "ForkPoolWorker-3:Read 274 from http://olympus.realpython.org/dice\n",
            "ForkPoolWorker-3:Read 19210 from http://www.jython.org\n",
            "ForkPoolWorker-3:Read 274 from http://olympus.realpython.org/dice\n",
            "ForkPoolWorker-3:Read 19210 from http://www.jython.org\n",
            "ForkPoolWorker-3:Read 274 from http://olympus.realpython.org/dice\n",
            "ForkPoolWorker-3:Read 19210 from http://www.jython.org\n",
            "ForkPoolWorker-3:Read 274 from http://olympus.realpython.org/dice\n",
            "ForkPoolWorker-3:Read 19210 from http://www.jython.org\n",
            "ForkPoolWorker-3:Read 274 from http://olympus.realpython.org/dice\n",
            "ForkPoolWorker-3:Read 19210 from http://www.jython.org\n",
            "ForkPoolWorker-3:Read 274 from http://olympus.realpython.org/dice\n",
            "ForkPoolWorker-3:Read 19210 from http://www.jython.org\n",
            "ForkPoolWorker-3:Read 274 from http://olympus.realpython.org/dice\n",
            "ForkPoolWorker-3:Read 19210 from http://www.jython.org\n",
            "ForkPoolWorker-3:Read 274 from http://olympus.realpython.org/dice\n",
            "ForkPoolWorker-3:Read 19210 from http://www.jython.org\n",
            "ForkPoolWorker-3:Read 274 from http://olympus.realpython.org/dice\n",
            "Downloaded 160 in 9.747379302978516 seconds\n"
          ],
          "name": "stdout"
        }
      ]
    }
  ]
}